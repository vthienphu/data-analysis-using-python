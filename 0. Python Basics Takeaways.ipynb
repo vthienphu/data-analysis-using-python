{
 "cells": [
  {
   "cell_type": "markdown",
   "metadata": {},
   "source": [
    "# Dictionaries and Frequency Tables: Takeaways"
   ]
  },
  {
   "cell_type": "markdown",
   "metadata": {},
   "source": [
    "## Syntax"
   ]
  },
  {
   "cell_type": "markdown",
   "metadata": {},
   "source": [
    "- Creating a dictionary:"
   ]
  },
  {
   "cell_type": "code",
   "execution_count": 7,
   "metadata": {},
   "outputs": [],
   "source": [
    "# First way\n",
    "dictionary = {'key_1': 1, 'key_2': 2}\n",
    "# Second way\n",
    "dictionary = {}\n",
    "dictionary['key_1'] = 1\n",
    "dictionary['key_2'] = 2"
   ]
  },
  {
   "cell_type": "markdown",
   "metadata": {},
   "source": [
    "- Retrieving individual dictionary values:"
   ]
  },
  {
   "cell_type": "code",
   "execution_count": 8,
   "metadata": {},
   "outputs": [
    {
     "data": {
      "text/plain": [
       "200"
      ]
     },
     "execution_count": 8,
     "metadata": {},
     "output_type": "execute_result"
    }
   ],
   "source": [
    "dictionary = {'key_1': 100, 'key_2': 200}\n",
    "dictionary['key_1'] # Outputs 100\n",
    "dictionary['key_2'] # Outputs 200"
   ]
  },
  {
   "cell_type": "markdown",
   "metadata": {},
   "source": [
    "- Checking whether a certain value exist in the dictionary as a key:"
   ]
  },
  {
   "cell_type": "code",
   "execution_count": 9,
   "metadata": {},
   "outputs": [
    {
     "data": {
      "text/plain": [
       "False"
      ]
     },
     "execution_count": 9,
     "metadata": {},
     "output_type": "execute_result"
    }
   ],
   "source": [
    "dictionary = {'key_1': 100, 'key_2': 200}\n",
    "'key_1' in dictionary # Outputs True\n",
    "'key_5' in dictionary # Outputs False\n",
    "100 in dictionary # Outputs False"
   ]
  },
  {
   "cell_type": "markdown",
   "metadata": {},
   "source": [
    "- Updating dictionary values:"
   ]
  },
  {
   "cell_type": "code",
   "execution_count": 17,
   "metadata": {},
   "outputs": [],
   "source": [
    "dictionary = {'key_1': 100, 'key_2': 200}\n",
    "dictionary['key_1'] += 600 # This will change the value to 700"
   ]
  },
  {
   "cell_type": "markdown",
   "metadata": {},
   "source": [
    "- The index of a dictionary value is called a key. In '4+': 4433 , the dictionary key is '4+' , and\n",
    "the dictionary value is 4433 . As a whole, '4+': 4433 is a key-value pair.\n",
    "\n",
    "- Dictionary values can be of any data type: strings, integers, floats, Booleans, lists, and even\n",
    "dictionaries. Dictionary keys can be of almost any data type we've learned so far, except for lists\n",
    "and dictionaries. If we use lists or dictionaries as dictionary keys, the computer raises an error.\n",
    "\n",
    "- We can check whether a certain value exist in the dictionary as a key using an the in operator.\n",
    "An in expression always returns a Boolean value.\n",
    "\n",
    "- The number of times a unique value occurs is also called frequency. Tables that map unique\n",
    "values to their frequencies are called frequency tables.\n",
    "\n",
    "- When we iterate over a dictionary with a for loop, the looping is done by default over the\n",
    "dictionary keys."
   ]
  },
  {
   "cell_type": "markdown",
   "metadata": {},
   "source": [
    "# Functions: Fundamentals: Takeaways"
   ]
  },
  {
   "cell_type": "markdown",
   "metadata": {},
   "source": [
    "- Creating a function with a single parameter:"
   ]
  },
  {
   "cell_type": "code",
   "execution_count": 14,
   "metadata": {},
   "outputs": [],
   "source": [
    "def square(number):\n",
    "    return number**2"
   ]
  },
  {
   "cell_type": "markdown",
   "metadata": {},
   "source": [
    "- Creating a function with more than one parameter:"
   ]
  },
  {
   "cell_type": "code",
   "execution_count": 15,
   "metadata": {},
   "outputs": [],
   "source": [
    "def add(x, y):\n",
    "    return x + y"
   ]
  },
  {
   "cell_type": "markdown",
   "metadata": {},
   "source": [
    "- Reusing a function within another function's definition:"
   ]
  },
  {
   "cell_type": "code",
   "execution_count": 16,
   "metadata": {},
   "outputs": [],
   "source": [
    "def add_to_square(x):\n",
    "    return square(x) + 1000 # we defined square() above"
   ]
  },
  {
   "cell_type": "markdown",
   "metadata": {},
   "source": [
    "- Generally, a function displays this pattern:\n",
    "    - It takes in an input.\n",
    "    - It does something to that input.\n",
    "    - It gives back an output.\n",
    "    \n",
    "- In Python, we have built-in functions like sum() , max() , min() , len() , and print() ,\n",
    "and functions that we create ourselves.\n",
    "\n",
    "- Structurally, a function is composed of a header (which contains the def statement), a body,\n",
    "and a return statement.\n",
    "\n",
    "- Input variables are called parameters, and the various values that parameters take are called\n",
    "arguments. In def square(number) , the number variable is a parameter. In square(number=6) ,\n",
    "the value 6 is an argument that is passed to the parameter number .\n",
    "\n",
    "- Arguments that are passed by name are called keyword arguments (the parameters give the\n",
    "name). When we use multiple keyword arguments, the order we use doesn't make any practical\n",
    "difference.\n",
    "\n",
    "- Arguments that are passed by position are called positional arguments. When we use multiple\n",
    "positional arguments, the order we use matters.\n",
    "\n",
    "- Debugging more complex functions can be a bit more challenging, but we can find the bugs by\n",
    "reading the traceback."
   ]
  },
  {
   "cell_type": "markdown",
   "metadata": {},
   "source": [
    "- Initiating parameters with default arguments:"
   ]
  },
  {
   "cell_type": "code",
   "execution_count": 18,
   "metadata": {},
   "outputs": [],
   "source": [
    "def add_value(x, constant=3.14):\n",
    "    return x + constant"
   ]
  },
  {
   "cell_type": "markdown",
   "metadata": {},
   "source": [
    "- Using multiple return statements:"
   ]
  },
  {
   "cell_type": "code",
   "execution_count": 19,
   "metadata": {},
   "outputs": [],
   "source": [
    "def sum_or_difference(a, b, do_sum):\n",
    "    if do_sum:\n",
    "        return a + b\n",
    "    return a - b"
   ]
  },
  {
   "cell_type": "markdown",
   "metadata": {},
   "source": [
    "- Returning multiple variables:"
   ]
  },
  {
   "cell_type": "code",
   "execution_count": 20,
   "metadata": {},
   "outputs": [],
   "source": [
    "def sum_and_difference(a, b):\n",
    "    a_sum = a + b\n",
    "    difference = a - b\n",
    "    return a_sum, difference\n",
    "\n",
    "sum_1, diff_1 = sum_and_difference(15, 10)"
   ]
  },
  {
   "cell_type": "markdown",
   "metadata": {},
   "source": [
    "- We need to avoid using the name of a built-in function to name a function or a variable because\n",
    "this overwrites the built-in function.\n",
    "\n",
    "- Each built-in function is well documented in the official Python documentation.\n",
    "\n",
    "- Parameters and return statements are not mandatory when we create a function.\n",
    "\n",
    "- The code inside a function definition is executed only when the function is called.\n",
    "When a function is called, the variables defined inside the function definition are saved into a\n",
    "temporary memory that is erased immediately after the function finishes running. The temporary\n",
    "memory associated with a function is isolated from the memory associated with the main\n",
    "program (the main program is the part of the program outside function definitions).\n",
    "\n",
    "- The part of a program where a variable can be accessed is often called scope. The variables\n",
    "defined in the main program are said to be in the global scope, while the variables defined inside\n",
    "a function are in the local scope.\n",
    "\n",
    "- Python searches the global scope if a variable is not available in the local scope, but the reverse\n",
    "doesn't apply. Python won't search the local scope if it doesn't find a variable in the global scope.\n",
    "Even if it searched the local scope, the memory associated with a function is temporary, so the\n",
    "search would be pointless."
   ]
  },
  {
   "cell_type": "markdown",
   "metadata": {},
   "source": [
    "# Cleaning and Preparing Data in Python: Takeaways"
   ]
  },
  {
   "cell_type": "code",
   "execution_count": 5,
   "metadata": {},
   "outputs": [
    {
     "name": "stdout",
     "output_type": "stream",
     "text": [
      "The substring was found.\n"
     ]
    }
   ],
   "source": [
    "# Replace a substring within a string:\n",
    "green_ball = \"red ball\".replace(\"red\", \"green\")\n",
    "\n",
    "# Remove a substring:\n",
    "friend_removed = \"hello there friend!\".replace(\" friend\", \"\")\n",
    "\n",
    "# Remove a series of characters from a string:\n",
    "bad_chars = [\"'\", \",\", \".\", \"!\"]\n",
    "string = \"We'll remove apostrophes, commas, periods, and exclamation marks!\"\n",
    "for char in bad_chars:\n",
    "    string = string.replace(char, \"\")\n",
    "\n",
    "test_data = [\"1912\", \"1929\", \"1913-1923\",\n",
    "             \"(1951)\", \"1994\", \"1934\",\n",
    "             \"c. 1915\", \"1995\", \"c. 1912\",\n",
    "             \"(1988)\", \"2002\", \"1957-1959\",\n",
    "             \"c. 1955.\", \"c. 1970's\", \n",
    "             \"C. 1990-1999\"]\n",
    "\n",
    "bad_chars = [\"(\",\")\",\"c\",\"C\",\".\",\"s\",\"'\", \" \"]\n",
    "\n",
    "def strip_characters(string):\n",
    "    for char in bad_chars:\n",
    "        string = string.replace(char,\"\")\n",
    "    return string\n",
    "\n",
    "stripped_test_data = ['1912', '1929', '1913-1923',\n",
    "                      '1951', '1994', '1934',\n",
    "                      '1915', '1995', '1912',\n",
    "                      '1988', '2002', '1957-1959',\n",
    "                      '1955', '1970', '1990-1999']\n",
    "\n",
    "# the date above\n",
    "# some are a single year, some are ranges of years.\n",
    "# When you encounter data like this, you need to make decisions on how you'll proceed.\n",
    "\n",
    "def process_date(string):\n",
    "    if \"-\" not in string:\n",
    "        return int(string)\n",
    "    else:\n",
    "        date_split = string.split(\"-\")\n",
    "        date_one = int(date_split[0])\n",
    "        date_two = int(date_split[1])\n",
    "        date = round((date_one + date_two) / 2)\n",
    "        return date  \n",
    "\n",
    "processed_test_data = []\n",
    "\n",
    "for data in stripped_test_data:\n",
    "    processed_test_data.append(process_date(data))\n",
    "\n",
    "\n",
    "# Convert a string to title cases:\n",
    "Hello = \"hello\".title()\n",
    "\n",
    "# Check a string for the existence of a substring:\n",
    "if \"car\" in \"carpet\":\n",
    "    print(\"The substring was found.\")\n",
    "else:\n",
    "    print(\"The substring was not found.\")\n",
    "\n",
    "# Split a string into a list of strings:\n",
    "split_on_dash = \"1980-12-08\".split(\"-\")\n",
    "    \n",
    "# Slice characters from a string by position:\n",
    "first_five_chars = \"This is a long string.\"[:5]\n",
    "    \n",
    "# Concatenate strings:\n",
    "superman = \"Clark\" + \" \" + \"Kent\""
   ]
  },
  {
   "cell_type": "markdown",
   "metadata": {},
   "source": [
    "When working with comma separated value (CSV) data in Python, it's common to have your data in a \"list of lists\" format, where each item of the internal lists are strings.\n",
    "\n",
    "If you have numeric data stored as strings, sometimes you will need to remove and replace certain characters before you can convert the strings to numeric types, like **int** and **float**\n",
    "\n",
    "Strings in Python are made from the same underlying data type as lists, which means you can index and slice specific characters from strings like you can lists."
   ]
  },
  {
   "cell_type": "code",
   "execution_count": 6,
   "metadata": {},
   "outputs": [],
   "source": [
    "# import the reader function from the csv module\n",
    "from csv import reader\n",
    "\n",
    "# use the python built-in function open()\n",
    "# to open the children.csv file\n",
    "opened_file = open('artworks.csv')\n",
    "\n",
    "# use csv.reader() to parse the data from\n",
    "# the opened file\n",
    "read_file = reader(opened_file)\n",
    "\n",
    "# use list() to convert the read file\n",
    "# into a list of lists format\n",
    "moma = list(read_file)\n",
    "\n",
    "# remove the first row of the data, which\n",
    "# contains the column names\n",
    "moma = moma[1:]\n",
    "\n",
    "for row in moma:\n",
    "    nationality = row[2] # Nationality example: (American)\t\n",
    "    nationality = nationality.replace(\"(\", \"\")\n",
    "    nationality = nationality.replace(\")\", \"\")\n",
    "    row[2] = nationality\n",
    "    gender = row[5]\n",
    "    gender = gender.replace(\"(\", \"\")\n",
    "    gender = gender.replace(\")\", \"\")\n",
    "    row[5] = gender\n",
    "    \n",
    "for row in moma:\n",
    "    # fix the capitalization and missing\n",
    "    # values for the gender column\n",
    "    gender = row[5]\n",
    "    \n",
    "    if not gender:\n",
    "        gender = \"Gender Unknown/Other\"\n",
    "    else:\n",
    "        gender = gender.title()\n",
    "        \n",
    "    row[5] = gender\n",
    "\n",
    "    # fix the capitalization and missing\n",
    "    # values for the nationality column\n",
    "    nationality = row[2]\n",
    "    \n",
    "    if not nationality: # If Nationality is None or zero/empty container\n",
    "        nationality = \"Nationality Unknown\"\n",
    "    else:\n",
    "        nationality = nationality.title()\n",
    "        \n",
    "    row[2] = nationality\n",
    "    \n",
    "def clean_and_convert(date):\n",
    "    # check that we don't have an empty string\n",
    "    if date != \"\":\n",
    "        # move the rest of the function inside\n",
    "        # the if statement\n",
    "        date = date.replace(\"(\", \"\")\n",
    "        date = date.replace(\")\", \"\")\n",
    "        date = int(date)\n",
    "    return date\n",
    "\n",
    "for row in moma:\n",
    "    begin_date = row[3] # Begin Date\n",
    "    end_date = row[4] # End Date\n",
    "    \n",
    "    begin_date = clean_and_convert(begin_date)\n",
    "    end_date = clean_and_convert(end_date)\n",
    "    \n",
    "    row[3] = begin_date\n",
    "    row[4] = end_date\n",
    "     \n",
    "    \n",
    "for row in moma:\n",
    "    date = row[6]\n",
    "    date = process_date(strip_characters(date))\n",
    "    row[6] = date    \n",
    "    \n",
    "def process_date(string):\n",
    "    if \"-\" not in string:\n",
    "        return int(string)\n",
    "    else:\n",
    "        date_split = string.split(\"-\")\n",
    "        date_one = int(date_split[0])\n",
    "        date_two = int(date_split[1])\n",
    "        date = round((date_one + date_two) / 2)\n",
    "        return date      "
   ]
  },
  {
   "cell_type": "markdown",
   "metadata": {},
   "source": [
    "# Python Data Analysis Basics: Takeaways"
   ]
  },
  {
   "cell_type": "markdown",
   "metadata": {},
   "source": [
    "## Syntax"
   ]
  },
  {
   "cell_type": "markdown",
   "metadata": {},
   "source": [
    "- Insert values into a string in order:"
   ]
  },
  {
   "cell_type": "code",
   "execution_count": 37,
   "metadata": {},
   "outputs": [],
   "source": [
    "continents = \"France is in {} and China is in {}\".format(\"Europe\", \"Asia\")"
   ]
  },
  {
   "cell_type": "markdown",
   "metadata": {},
   "source": [
    "- Insert values into a string by position:"
   ]
  },
  {
   "cell_type": "code",
   "execution_count": 38,
   "metadata": {},
   "outputs": [],
   "source": [
    "squares = \"{0} times {0} equals {1}\".format(3,9)"
   ]
  },
  {
   "cell_type": "markdown",
   "metadata": {},
   "source": [
    "- Insert values into a string by name:"
   ]
  },
  {
   "cell_type": "code",
   "execution_count": 39,
   "metadata": {},
   "outputs": [],
   "source": [
    "population = \"{name}'s population is {pop} million\".format(name=\"Brazil\", pop=209)"
   ]
  },
  {
   "cell_type": "markdown",
   "metadata": {},
   "source": [
    "- Format specification for precision of two decimal places:"
   ]
  },
  {
   "cell_type": "code",
   "execution_count": 40,
   "metadata": {},
   "outputs": [],
   "source": [
    "two_decimal_places = \"I own {:.2f}% of the company\".format(32.5548651132)"
   ]
  },
  {
   "cell_type": "markdown",
   "metadata": {},
   "source": [
    "- Format specification for comma separator:"
   ]
  },
  {
   "cell_type": "code",
   "execution_count": 41,
   "metadata": {},
   "outputs": [],
   "source": [
    "india_pop = \"The approximate population of {} is {:,}\".format(\"India\",1324000000)"
   ]
  },
  {
   "cell_type": "markdown",
   "metadata": {},
   "source": [
    "- Order for format specification when using precision and comma separator:"
   ]
  },
  {
   "cell_type": "code",
   "execution_count": 42,
   "metadata": {},
   "outputs": [],
   "source": [
    "balance_string = \"Your bank balance is {:,.2f}\".format(12345.678)"
   ]
  },
  {
   "cell_type": "markdown",
   "metadata": {},
   "source": [
    "- The str.format() method allows you to insert values into strings without explicitly converting\n",
    "them.\n",
    "- The str.format() method also accepts optional format specifications, which you can use to\n",
    "format values so they are easier to read."
   ]
  },
  {
   "cell_type": "markdown",
   "metadata": {},
   "source": [
    "### Reading our MoMA Data Set"
   ]
  },
  {
   "cell_type": "code",
   "execution_count": 44,
   "metadata": {},
   "outputs": [],
   "source": [
    "from csv import reader\n",
    "\n",
    "# Read the `artworks_clean.csv` file\n",
    "opened_file = open('artworks_clean.csv')\n",
    "read_file = reader(opened_file)\n",
    "moma = list(read_file)\n",
    "moma = moma[1:]\n",
    "\n",
    "# Convert the birthdate values\n",
    "for row in moma:\n",
    "    birth_date = row[3]\n",
    "    if birth_date != \"\":\n",
    "        birth_date = int(birth_date)\n",
    "    row[3] = birth_date\n",
    "    \n",
    "# Convert the death date values\n",
    "for row in moma:\n",
    "    death_date = row[4]\n",
    "    if death_date != \"\":\n",
    "        death_date = int(death_date)\n",
    "    row[4] = death_date\n",
    "\n",
    "# Write your code below\n",
    "for row in moma:\n",
    "    date = row[6]\n",
    "    if date:\n",
    "        date = int(date)\n",
    "        row[6] = date"
   ]
  },
  {
   "cell_type": "markdown",
   "metadata": {},
   "source": [
    "### Calculating Artist Ages"
   ]
  },
  {
   "cell_type": "code",
   "execution_count": 45,
   "metadata": {},
   "outputs": [],
   "source": [
    "ages = []\n",
    "\n",
    "for row in moma:\n",
    "    date = row[6]\n",
    "    birth = row[3]\n",
    "    '''\n",
    "    The isinstance() function returns True if the specified object is of        the specified type, otherwise False.\n",
    "\n",
    "    If the type parameter is a tuple, this function will return True if         the object is one of the types in the tuple.\n",
    "    '''\n",
    "    if (isinstance(birth, int)):\n",
    "        ages.append(date - birth)\n",
    "    else:\n",
    "        ages.append(0)\n",
    "\n",
    "final_ages = []\n",
    "\n",
    "for age in ages:\n",
    "    if age > 20:\n",
    "        final_age = age\n",
    "    else:\n",
    "        final_age = \"Unknown\"\n",
    "    final_ages.append(final_age)\n",
    "    \n"
   ]
  },
  {
   "cell_type": "markdown",
   "metadata": {},
   "source": [
    "### Converting Ages to Decades"
   ]
  },
  {
   "cell_type": "code",
   "execution_count": 46,
   "metadata": {},
   "outputs": [],
   "source": [
    "# The final_ages variable is available\n",
    "# from the previous screen\n",
    "\n",
    "decades = []\n",
    "\n",
    "for age in final_ages:\n",
    "    if age == \"Unknown\":\n",
    "        decade = age\n",
    "    else:\n",
    "        decade = str(age)\n",
    "        # As a first step toward this, we'll need to remove the last digit          in every age\n",
    "        decade = decade[:-1]\n",
    "        decade = decade + \"0s\"\n",
    "    decades.append(decade)"
   ]
  },
  {
   "cell_type": "markdown",
   "metadata": {},
   "source": [
    "### Summarizing the Decade Data"
   ]
  },
  {
   "cell_type": "code",
   "execution_count": 47,
   "metadata": {},
   "outputs": [],
   "source": [
    "# The decades variable is available\n",
    "# from the previous screen\n",
    "decade_frequency = {}\n",
    "\n",
    "for d in decades:\n",
    "    if d not in decade_frequency:\n",
    "        decade_frequency[d] = 1\n",
    "    else:\n",
    "        decade_frequency[d] += 1"
   ]
  },
  {
   "cell_type": "markdown",
   "metadata": {},
   "source": [
    "###  Inserting Variables Into Strings"
   ]
  },
  {
   "cell_type": "code",
   "execution_count": 48,
   "metadata": {},
   "outputs": [
    {
     "name": "stdout",
     "output_type": "stream",
     "text": [
      "Pablo Picasso's birth year is 1881\n"
     ]
    }
   ],
   "source": [
    "artist = \"Pablo Picasso\"\n",
    "birth_year = 1881\n",
    "template = \"{name}'s birth year is {year}\"\n",
    "output = template.format(name=artist, year=birth_year)\n",
    "print(output)"
   ]
  },
  {
   "cell_type": "markdown",
   "metadata": {},
   "source": [
    "### Creating an Artist Frequency Table"
   ]
  },
  {
   "cell_type": "code",
   "execution_count": 49,
   "metadata": {},
   "outputs": [],
   "source": [
    "artist_freq = {}\n",
    "\n",
    "for row in moma:\n",
    "    artist = row[1]\n",
    "    if artist not in artist_freq:\n",
    "        artist_freq[artist] = 1\n",
    "    else:\n",
    "        artist_freq[artist] += 1"
   ]
  },
  {
   "cell_type": "markdown",
   "metadata": {},
   "source": [
    "### Creating an Artist Summary Function"
   ]
  },
  {
   "cell_type": "code",
   "execution_count": 50,
   "metadata": {},
   "outputs": [
    {
     "name": "stdout",
     "output_type": "stream",
     "text": [
      "There are 129 artworks by Henri Matisse in the data set\n"
     ]
    }
   ],
   "source": [
    "def artist_summary(artist):\n",
    "    num_artworks = artist_freq[artist]\n",
    "    template = \"There are {num} artworks by {name} in the data set\"\n",
    "    output = template.format(name=artist, num=num_artworks)\n",
    "    print(output)\n",
    "\n",
    "artist_summary(\"Henri Matisse\")"
   ]
  },
  {
   "cell_type": "markdown",
   "metadata": {},
   "source": [
    "### Formatting Numbers Inside Strings"
   ]
  },
  {
   "cell_type": "code",
   "execution_count": 51,
   "metadata": {},
   "outputs": [
    {
     "name": "stdout",
     "output_type": "stream",
     "text": [
      "The population of China is 1,379.30 million\n",
      "The population of India is 1,281.94 million\n",
      "The population of USA is 326.63 million\n",
      "The population of Indonesia is 260.58 million\n",
      "The population of Brazil is 207.35 million\n"
     ]
    }
   ],
   "source": [
    "pop_millions = [\n",
    "    [\"China\", 1379.302771],\n",
    "    [\"India\", 1281.935991],\n",
    "    [\"USA\",  326.625791],\n",
    "    [\"Indonesia\",  260.580739],\n",
    "    [\"Brazil\",  207.353391],\n",
    "]\n",
    "template = \"The population of {} is {:,.2f} million\"\n",
    "\n",
    "for country in pop_millions:\n",
    "    name = country[0]\n",
    "    pop = country[1]\n",
    "    output = template.format(name, pop)\n",
    "    print(output)"
   ]
  },
  {
   "cell_type": "markdown",
   "metadata": {},
   "source": [
    "### Summarizing Artwork Gender Data"
   ]
  },
  {
   "cell_type": "code",
   "execution_count": 52,
   "metadata": {},
   "outputs": [
    {
     "name": "stdout",
     "output_type": "stream",
     "text": [
      "There are 2,443 artworks by Female artists\n",
      "There are 13,491 artworks by Male artists\n",
      "There are 791 artworks by Gender Unknown/Other artists\n"
     ]
    }
   ],
   "source": [
    "# gender frequency table\n",
    "gender_freq = {}\n",
    "\n",
    "for row in moma:\n",
    "    gender = row[5]\n",
    "    if gender not in gender_freq:\n",
    "        gender_freq[gender] = 1\n",
    "    else:\n",
    "        gender_freq[gender] += 1\n",
    "\n",
    "for gender, num in gender_freq.items():\n",
    "    template = \"There are {n:,} artworks by {g} artists\"\n",
    "    print(template.format(g=gender, n=num))"
   ]
  },
  {
   "cell_type": "markdown",
   "metadata": {},
   "source": [
    "# Object-Oriented Python: Takeaways\n",
    "## Syntax"
   ]
  },
  {
   "cell_type": "markdown",
   "metadata": {},
   "source": [
    "- Define an empty class:"
   ]
  },
  {
   "cell_type": "code",
   "execution_count": 53,
   "metadata": {},
   "outputs": [],
   "source": [
    "class MyClass:\n",
    "    pass"
   ]
  },
  {
   "cell_type": "markdown",
   "metadata": {},
   "source": [
    "- Instantiate an object of a class:"
   ]
  },
  {
   "cell_type": "code",
   "execution_count": 57,
   "metadata": {},
   "outputs": [
    {
     "data": {
      "text/plain": [
       "__main__.MyClass"
      ]
     },
     "execution_count": 57,
     "metadata": {},
     "output_type": "execute_result"
    }
   ],
   "source": [
    "class MyClass:\n",
    "    pass\n",
    "\n",
    "mc_1 = MyClass()\n",
    "type(mc_1)"
   ]
  },
  {
   "cell_type": "markdown",
   "metadata": {},
   "source": [
    "- Define an init function in a class to assign an attribute at instantiation:"
   ]
  },
  {
   "cell_type": "code",
   "execution_count": 59,
   "metadata": {},
   "outputs": [
    {
     "data": {
      "text/plain": [
       "__main__.MyClass"
      ]
     },
     "execution_count": 59,
     "metadata": {},
     "output_type": "execute_result"
    }
   ],
   "source": [
    "class MyClass:\n",
    "    def __init__(self, param_1):\n",
    "        self.attribute_1 = param_1\n",
    "\n",
    "mc_2 = MyClass(\"arg_1\")\n",
    "type(mc_2)"
   ]
  },
  {
   "cell_type": "markdown",
   "metadata": {},
   "source": [
    "- Define a method inside a class and call it on an instantiated object:"
   ]
  },
  {
   "cell_type": "code",
   "execution_count": 66,
   "metadata": {},
   "outputs": [
    {
     "name": "stdout",
     "output_type": "stream",
     "text": [
      "Type of mc_3:  <class '__main__.MyClass'>\n",
      "Type of mc_3.attribute_1:  <class 'int'>\n",
      "mc_3.attribute_1 value:  30\n"
     ]
    }
   ],
   "source": [
    "class MyClass:\n",
    "    def __init__(self, param_1):\n",
    "        self.attribute_1 = param_1\n",
    "    def add_20(self):\n",
    "        self.attribute_1 += 20\n",
    "\n",
    "mc_3 = MyClass(10) # mc_3.attribute is 10\n",
    "mc_3.add_20() # mc_3.attribute is 30\n",
    "\n",
    "print(\"Type of mc_3: \", type(mc_3))\n",
    "print(\"Type of mc_3.attribute_1: \", type(mc_3.attribute_1))\n",
    "print(\"mc_3.attribute_1 value: \", mc_3.attribute_1)"
   ]
  },
  {
   "cell_type": "markdown",
   "metadata": {},
   "source": [
    "- In Object-Oriented Programming, the fundamental building blocks are objects.\n",
    "     - It differs from Procedural programming, where sequential steps are executed.\n",
    "- An object is an entity that stores data.\n",
    "- A class describes an object's type. It defines:\n",
    "    - What data is stored in the object, known as attributes.\n",
    "    - What actions the object can do, known as methods.\n",
    "- An attribute is a variable that belongs to an instance of a class.\n",
    "- A method is a function that belongs to an instance of a class.\n",
    "\n",
    "- Attributes and methods are accessed using dot notation. Attributes do not use parentheses,\n",
    "whereas methods do.\n",
    "\n",
    "- An instance describes a specific example of a class. For instance, in the code x = 3 , x is an\n",
    "instance of the type int .\n",
    "    - When an object is created, it is known as instantiation.\n",
    "\n",
    "- A class definition is code that defines how a class behaves, including all methods and\n",
    "attributes.\n",
    "- The init method is a special method that runs at the moment an object is instantiated.\n",
    "    - The init method ( __init__() ) is one of a number of special methods that Python defines.\n",
    "- All methods must include self , representing the object instance, as their first parameter.\n",
    "- It is convention to start the name of any attributes or methods that aren't intended for external\n",
    "use with an underscore."
   ]
  },
  {
   "cell_type": "markdown",
   "metadata": {},
   "source": [
    "- Understanding 'self'"
   ]
  },
  {
   "cell_type": "code",
   "execution_count": 67,
   "metadata": {},
   "outputs": [],
   "source": [
    "class MyClass:\n",
    "    def first_method():\n",
    "        print(\"This is my first method\")\n",
    "\n",
    "my_instance = MyClass()"
   ]
  },
  {
   "cell_type": "code",
   "execution_count": 68,
   "metadata": {},
   "outputs": [
    {
     "ename": "TypeError",
     "evalue": "first_method() takes 0 positional arguments but 1 was given",
     "output_type": "error",
     "traceback": [
      "\u001b[0;31m---------------------------------------------------------------------------\u001b[0m",
      "\u001b[0;31mTypeError\u001b[0m                                 Traceback (most recent call last)",
      "\u001b[0;32m<ipython-input-68-84f2a1d239ef>\u001b[0m in \u001b[0;36m<module>\u001b[0;34m\u001b[0m\n\u001b[0;32m----> 1\u001b[0;31m \u001b[0mmy_instance\u001b[0m\u001b[0;34m.\u001b[0m\u001b[0mfirst_method\u001b[0m\u001b[0;34m(\u001b[0m\u001b[0;34m)\u001b[0m\u001b[0;34m\u001b[0m\u001b[0;34m\u001b[0m\u001b[0m\n\u001b[0m",
      "\u001b[0;31mTypeError\u001b[0m: first_method() takes 0 positional arguments but 1 was given"
     ]
    }
   ],
   "source": [
    "my_instance.first_method()"
   ]
  },
  {
   "cell_type": "markdown",
   "metadata": {},
   "source": [
    "This error is a bit confusing. It says that one argument was given to `first_method()`, but when we called the method we didn't provide any arguments. It seems like there is a \"phantom\" argument being inserted somewhere. To understand what's happening, let's look at what happens behind the scenes when we call a method. We'll start by looking at our `my_instance` object containing a single method:\n",
    "\n",
    "When we call the `first_method()` method belonging to the `my_instance` object, Python interprets that syntax and adds in an argument representing the instance we're calling the method on:"
   ]
  },
  {
   "cell_type": "markdown",
   "metadata": {},
   "source": [
    "> `instance.first_method()` **equals to** `NewList.first_method(instance)`"
   ]
  },
  {
   "cell_type": "code",
   "execution_count": 71,
   "metadata": {},
   "outputs": [
    {
     "name": "stdout",
     "output_type": "stream",
     "text": [
      "This is my first method\n"
     ]
    }
   ],
   "source": [
    "class MyClass:\n",
    "    \n",
    "    def first_method(self):\n",
    "        return \"This is my first method\"\n",
    "\n",
    "my_instance = MyClass()\n",
    "result = my_instance.first_method()\n",
    "\n",
    "print(result)"
   ]
  },
  {
   "cell_type": "markdown",
   "metadata": {},
   "source": [
    "- Creating a Method That Accepts an Argument"
   ]
  },
  {
   "cell_type": "code",
   "execution_count": 73,
   "metadata": {},
   "outputs": [
    {
     "data": {
      "text/plain": [
       "[1, 2, 3]"
      ]
     },
     "execution_count": 73,
     "metadata": {},
     "output_type": "execute_result"
    }
   ],
   "source": [
    "class MyClass:\n",
    "    \n",
    "    def first_method(self):\n",
    "        return \"This is my first method\"\n",
    "    \n",
    "    # Add method here\n",
    "    def return_list(self, input_list):\n",
    "        return input_list\n",
    "\n",
    "my_instance = MyClass()\n",
    "result = my_instance.return_list([1, 2, 3])\n",
    "result"
   ]
  },
  {
   "cell_type": "markdown",
   "metadata": {},
   "source": [
    "- Attributes and the Init Method"
   ]
  },
  {
   "cell_type": "code",
   "execution_count": 74,
   "metadata": {},
   "outputs": [
    {
     "name": "stdout",
     "output_type": "stream",
     "text": [
      "[1, 2, 3, 4, 5]\n"
     ]
    }
   ],
   "source": [
    "class MyList:\n",
    "    def __init__(self, initial_data):\n",
    "        self.data = initial_data\n",
    "\n",
    "my_list = MyList([1, 2, 3, 4, 5])\n",
    "\n",
    "print(my_list.data)"
   ]
  },
  {
   "cell_type": "markdown",
   "metadata": {},
   "source": [
    "- Creating an Append Method"
   ]
  },
  {
   "cell_type": "code",
   "execution_count": 75,
   "metadata": {},
   "outputs": [
    {
     "name": "stdout",
     "output_type": "stream",
     "text": [
      "[1, 2, 3, 4, 5]\n",
      "[1, 2, 3, 4, 5, 6]\n"
     ]
    }
   ],
   "source": [
    "class MyList:\n",
    "\n",
    "    def __init__(self, initial_data):\n",
    "        self.data = initial_data\n",
    "        \n",
    "    # Add method here\n",
    "    def append(self, new_item):\n",
    "        self.data.append(new_item)\n",
    "    \n",
    "my_list = MyList([1, 2, 3, 4, 5])\n",
    "print(my_list.data)\n",
    "\n",
    "my_list.append(6)\n",
    "print(my_list.data)"
   ]
  },
  {
   "cell_type": "markdown",
   "metadata": {},
   "source": [
    "- Creating and Updating an Attribute"
   ]
  },
  {
   "cell_type": "code",
   "execution_count": 76,
   "metadata": {},
   "outputs": [
    {
     "name": "stdout",
     "output_type": "stream",
     "text": [
      "5\n",
      "6\n"
     ]
    }
   ],
   "source": [
    "class MyList:\n",
    "\n",
    "    def __init__(self, initial_data):\n",
    "        self.data = initial_data\n",
    "        # Calculate the initial length\n",
    "        '''\n",
    "        self.length = 0\n",
    "        for item in self.data:\n",
    "            self.length += 1\n",
    "        '''\n",
    "        self.length = len(self.data)\n",
    "\n",
    "    def append(self, new_item):\n",
    "        self.data = self.data + [new_item]\n",
    "        # Update the length here\n",
    "        self.length += 1\n",
    "        \n",
    "my_list = MyList([1, 1, 2, 3 ,5])\n",
    "print(my_list.length)\n",
    "my_list.append(8)\n",
    "print(my_list.length)"
   ]
  },
  {
   "cell_type": "markdown",
   "metadata": {},
   "source": [
    "# Working with Dates and Times in Python: Takeaways"
   ]
  },
  {
   "cell_type": "markdown",
   "metadata": {},
   "source": [
    "### IMPORTING MODULES AND DEFINITIONS"
   ]
  },
  {
   "cell_type": "code",
   "execution_count": 84,
   "metadata": {},
   "outputs": [],
   "source": [
    "# Importing a whole module:\n",
    "import csv\n",
    "# csv.reader()\n",
    "\n",
    "# Importing a whole module with an alias:\n",
    "import csv as c\n",
    "# c.reader()\n",
    "\n",
    "# Importing a single definition:\n",
    "from csv import reader\n",
    "# reader()\n",
    "\n",
    "# Importing multiple definitions:\n",
    "from csv import reader, writer\n",
    "# reader()\n",
    "# writer()\n",
    "\n",
    "# Importing all definitions:\n",
    "from csv import *"
   ]
  },
  {
   "cell_type": "markdown",
   "metadata": {},
   "source": [
    "### WORKING WITH THE DATETIME MODULE"
   ]
  },
  {
   "cell_type": "code",
   "execution_count": 86,
   "metadata": {},
   "outputs": [],
   "source": [
    "# All examples below presume the following import code:\n",
    "import datetime as dt\n",
    "\n",
    "# Creating datetime.datetime object given a month, year, and day:\n",
    "eg_1 = dt.datetime(1985, 3, 13)\n",
    "\n",
    "# Creating a datetime.datetime object from a string:\n",
    "eg_2 = dt.datetime.strptime(\"24/12/1984\", \"%d/%m/%Y\")\n",
    "\n",
    "# Converting a datetime.datetime object to a string:\n",
    "dt_object = dt.datetime(1984, 12, 24)\n",
    "dt_string = dt_object.strftime(\"%d/%m/%Y\")\n",
    "\n",
    "# Instantiating a datetime.time object:\n",
    "eg_3 = dt.time(hour=0, minute=0, second=0, microsecond=0)\n",
    "\n",
    "# Retrieving a part of a date stored in the datetime.datetime object:\n",
    "eg_1.day\n",
    "\n",
    "# Creating a datetime.time object from a datetime.datetime object:\n",
    "d2_dt = dt.datetime(1946, 9, 10)\n",
    "d2 = d2_dt.time()\n",
    "\n",
    "# Creating a datetime.time object from a string:\n",
    "d3_str = \"17 February 1963\"\n",
    "d3_dt = dt.datetime.strptime(d3_str, \"%d %B %Y\")\n",
    "d3 = d3_dt.time()\n",
    "\n",
    "# Instantiating a datetime.timedelta object:\n",
    "eg_4 = dt.timedelta(weeks=3)\n",
    "\n",
    "# Adding a time period to a datetime.datetime object:\n",
    "d1 = dt.date(1963, 2, 26)\n",
    "d1_plus_1wk = d1 + dt.timedelta(weeks=1)"
   ]
  },
  {
   "cell_type": "markdown",
   "metadata": {},
   "source": [
    "- The datetime module contains the following classes:\n",
    "    - datetime.datetime : For working with date and time data\n",
    "    - datetime.time : For working with time data only\n",
    "    - datetime.timedelta : For representing time periods\n",
    "- Time objects behave similarly to datetime objects for the following reasons:\n",
    "    - They have attributes like time.hour and time.second that you can use to access\n",
    "individual time components.\n",
    "    - They have a time.strftime() method, which you can use to create a formatted string\n",
    "representation of the object.\n",
    "\n",
    "- The timedelta type represents a period of time, e.g. 30 minutes or two days.\n",
    "\n",
    "\n",
    "#### [`strftime()` and `strptime()` Format Codes](https://docs.python.org/3/library/datetime.html#strftime-and-strptime-format-codes)"
   ]
  },
  {
   "cell_type": "markdown",
   "metadata": {},
   "source": [
    "##### Operations between timedelta, datetime, and time objects (datetime can be substituted with time):\n",
    "- Operation\n",
    "    - `datetime - datetime` Calculate the time between two specific dates/times \n",
    "        - *Resultant Type*: timedelta\n",
    "    - `datetime - timedelta` Subtract a time period from a date or time. \n",
    "        - *Resultant Type*: datetime\n",
    "    - `datetime + timedelta` Add a time period to a date or time. \n",
    "        - *Resultant Typ*e: datetime\n",
    "    - `timedelta + timedelta` Add two periods of time together \n",
    "        - *Resultant Type*: timedelta\n",
    "    - `timedelta - timedelta` Calculate the difference between two time periods. \n",
    "        - *Resultant Type*: timedelta"
   ]
  },
  {
   "cell_type": "code",
   "execution_count": null,
   "metadata": {},
   "outputs": [],
   "source": []
  },
  {
   "cell_type": "code",
   "execution_count": null,
   "metadata": {},
   "outputs": [],
   "source": []
  },
  {
   "cell_type": "code",
   "execution_count": null,
   "metadata": {},
   "outputs": [],
   "source": []
  },
  {
   "cell_type": "code",
   "execution_count": null,
   "metadata": {},
   "outputs": [],
   "source": []
  },
  {
   "cell_type": "code",
   "execution_count": null,
   "metadata": {},
   "outputs": [],
   "source": []
  },
  {
   "cell_type": "code",
   "execution_count": null,
   "metadata": {},
   "outputs": [],
   "source": []
  },
  {
   "cell_type": "code",
   "execution_count": null,
   "metadata": {},
   "outputs": [],
   "source": []
  },
  {
   "cell_type": "code",
   "execution_count": null,
   "metadata": {},
   "outputs": [],
   "source": []
  },
  {
   "cell_type": "code",
   "execution_count": null,
   "metadata": {},
   "outputs": [],
   "source": []
  },
  {
   "cell_type": "code",
   "execution_count": null,
   "metadata": {},
   "outputs": [],
   "source": []
  },
  {
   "cell_type": "code",
   "execution_count": null,
   "metadata": {},
   "outputs": [],
   "source": []
  },
  {
   "cell_type": "code",
   "execution_count": null,
   "metadata": {},
   "outputs": [],
   "source": []
  },
  {
   "cell_type": "code",
   "execution_count": null,
   "metadata": {},
   "outputs": [],
   "source": []
  },
  {
   "cell_type": "code",
   "execution_count": null,
   "metadata": {},
   "outputs": [],
   "source": []
  },
  {
   "cell_type": "code",
   "execution_count": null,
   "metadata": {},
   "outputs": [],
   "source": []
  },
  {
   "cell_type": "code",
   "execution_count": null,
   "metadata": {},
   "outputs": [],
   "source": []
  },
  {
   "cell_type": "code",
   "execution_count": null,
   "metadata": {},
   "outputs": [],
   "source": []
  },
  {
   "cell_type": "code",
   "execution_count": null,
   "metadata": {},
   "outputs": [],
   "source": []
  },
  {
   "cell_type": "code",
   "execution_count": null,
   "metadata": {},
   "outputs": [],
   "source": []
  },
  {
   "cell_type": "code",
   "execution_count": null,
   "metadata": {},
   "outputs": [],
   "source": []
  }
 ],
 "metadata": {
  "kernelspec": {
   "display_name": "Python 3",
   "language": "python",
   "name": "python3"
  },
  "language_info": {
   "codemirror_mode": {
    "name": "ipython",
    "version": 3
   },
   "file_extension": ".py",
   "mimetype": "text/x-python",
   "name": "python",
   "nbconvert_exporter": "python",
   "pygments_lexer": "ipython3",
   "version": "3.8.5"
  }
 },
 "nbformat": 4,
 "nbformat_minor": 4
}
