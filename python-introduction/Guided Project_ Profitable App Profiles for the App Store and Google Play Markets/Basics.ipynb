{
 "cells": [
  {
   "cell_type": "markdown",
   "metadata": {
    "collapsed": true
   },
   "source": [
    "# Profitable App Profiles for the App Store and Google Play Markets¶\n",
    "### Here is my project when learning Python fundamentals for Data Analysis.\n",
    "This project is about finding mobile app profiles that are profitable for the App Store and Google Play markets.\n",
    "Our goal for this project is to analyze data to help our developers understand what type of apps are likely to attract more users.\n"
   ]
  },
  {
   "cell_type": "markdown",
   "metadata": {},
   "source": [
    "# Opening and Exploring the Data\n",
    "As of September 2018, there were approximately 2 million iOS apps available on the App Store, and 2.1 million Android apps on Google Play.\n",
    "\n",
    "Collecting data for over four million apps requires a significant amount of time and money, so we'll try to analyze a sample of data instead. To avoid spending resources with collecting new data ourselves, we should first try to see whether we can find any relevant existing data at no cost. Luckily, these are two data sets that seem suitable for our purpose:\n",
    "\n",
    "A data set containing data about approximately ten thousand Android apps from Google Play. You can download the data set directly from this [link](https://www.kaggle.com/lava18/google-play-store-apps/download).<br>\n",
    "A data set containing data about approximately seven thousand iOS apps from the App Store. You can download the data set directly from this [link](https://www.kaggle.com/ramamet4/app-store-apple-data-set-10k-apps/download).\n",
    "\n",
    "Let's start by opening the two data sets and then continue with exploring the data."
   ]
  },
  {
   "cell_type": "code",
   "execution_count": 12,
   "metadata": {},
   "outputs": [],
   "source": [
    "from csv import reader\n",
    "\n",
    "# Define a function to open data set\n",
    "def open_dataset(csv_file):\n",
    "    '''\n",
    "    - Takes one parameter:\n",
    "    csvfile is expected to be a name of dataset\n",
    "    - Open a dataset and return data_header and dataset\n",
    "    '''\n",
    "    opened_file = open(csv_file, encoding='utf8') # return io.TextIOWrapper Object)\n",
    "    read_file = reader(opened_file) # return csv.reader Object \n",
    "    dataset = list(read_file) # transform csv.reader to list\n",
    "    data_header = dataset[0]\n",
    "    dataset = dataset[1:]\n",
    "    return data_header, dataset\n",
    "\n",
    "\n",
    "### The Google Play data set ###\n",
    "android_header, android = open_dataset('googleplaystore.csv')\n",
    "\n",
    "### The App Store data set ###\n",
    "ios_header, ios = open_dataset('AppleStore.csv')"
   ]
  },
  {
   "cell_type": "markdown",
   "metadata": {},
   "source": [
    "To make it easier to explore the two data sets, we'll first write a function named explore_data() that we can use repeatedly to explore rows in a more readable way. We'll also add an option for our function to show the number of rows and columns for any data set."
   ]
  },
  {
   "cell_type": "code",
   "execution_count": 13,
   "metadata": {},
   "outputs": [],
   "source": [
    "def explore_data(dataset, start, end, rows_and_columns=False):\n",
    "    '''\n",
    "    + Takes in four parameters\n",
    "        - dataset is expected to be a list of lists.\n",
    "        - start and end are both expected to be integers and represent\n",
    "        the starting and the ending indices of a slice from the data set\n",
    "        - rows_and_columns is expected to be a Boolean and has False as a default argument\n",
    "    + Slices the data set using dataset[start:end]\n",
    "    + Loops through the slice, and for each iteration, prints a row\n",
    "    and adds a new line after that row\n",
    "    + Print the number of rows and columns if rows_and_columns is True\n",
    "        - dataset shouldn't have a header row.\n",
    "    '''\n",
    "    dataset_slice = dataset[start:end]    \n",
    "    for row in dataset_slice:\n",
    "        print(row)\n",
    "        print('\\n') # adds a new (empty) line between rows\n",
    "        \n",
    "    if rows_and_columns:\n",
    "        print('Number of rows:', len(dataset))\n",
    "        print('Number of columns:', len(dataset[0]))"
   ]
  },
  {
   "cell_type": "code",
   "execution_count": 14,
   "metadata": {},
   "outputs": [
    {
     "name": "stdout",
     "output_type": "stream",
     "text": [
      "['App', 'Category', 'Rating', 'Reviews', 'Size', 'Installs', 'Type', 'Price', 'Content Rating', 'Genres', 'Last Updated', 'Current Ver', 'Android Ver']\n",
      "\n",
      "\n",
      "['Photo Editor & Candy Camera & Grid & ScrapBook', 'ART_AND_DESIGN', '4.1', '159', '19M', '10,000+', 'Free', '0', 'Everyone', 'Art & Design', 'January 7, 2018', '1.0.0', '4.0.3 and up']\n",
      "\n",
      "\n",
      "['Coloring book moana', 'ART_AND_DESIGN', '3.9', '967', '14M', '500,000+', 'Free', '0', 'Everyone', 'Art & Design;Pretend Play', 'January 15, 2018', '2.0.0', '4.0.3 and up']\n",
      "\n",
      "\n",
      "['U Launcher Lite – FREE Live Cool Themes, Hide Apps', 'ART_AND_DESIGN', '4.7', '87510', '8.7M', '5,000,000+', 'Free', '0', 'Everyone', 'Art & Design', 'August 1, 2018', '1.2.4', '4.0.3 and up']\n",
      "\n",
      "\n",
      "Number of rows: 10841\n",
      "Number of columns: 13\n"
     ]
    }
   ],
   "source": [
    "### Exploring android data ###\n",
    "print(android_header)\n",
    "print('\\n')\n",
    "explore_data(android, 0, 3, True)"
   ]
  },
  {
   "cell_type": "markdown",
   "metadata": {},
   "source": [
    "We see that the Google Play data set has 10841 apps and 13 columns. At a quick glance, the columns that might be useful for the purpose of our analysis are 'App', 'Category', 'Reviews', 'Installs', 'Type', 'Price', and 'Genres'."
   ]
  },
  {
   "cell_type": "code",
   "execution_count": 15,
   "metadata": {},
   "outputs": [
    {
     "name": "stdout",
     "output_type": "stream",
     "text": [
      "['id', 'track_name', 'size_bytes', 'currency', 'price', 'rating_count_tot', 'rating_count_ver', 'user_rating', 'user_rating_ver', 'ver', 'cont_rating', 'prime_genre', 'sup_devices.num', 'ipadSc_urls.num', 'lang.num', 'vpp_lic']\n",
      "\n",
      "\n",
      "['284882215', 'Facebook', '389879808', 'USD', '0.0', '2974676', '212', '3.5', '3.5', '95.0', '4+', 'Social Networking', '37', '1', '29', '1']\n",
      "\n",
      "\n",
      "['389801252', 'Instagram', '113954816', 'USD', '0.0', '2161558', '1289', '4.5', '4.0', '10.23', '12+', 'Photo & Video', '37', '0', '29', '1']\n",
      "\n",
      "\n",
      "['529479190', 'Clash of Clans', '116476928', 'USD', '0.0', '2130805', '579', '4.5', '4.5', '9.24.12', '9+', 'Games', '38', '5', '18', '1']\n",
      "\n",
      "\n",
      "Number of rows: 7197\n",
      "Number of columns: 16\n"
     ]
    }
   ],
   "source": [
    "### Exploring ios data ###\n",
    "print(ios_header)\n",
    "print('\\n')\n",
    "explore_data(ios, 0, 3, True)"
   ]
  },
  {
   "cell_type": "markdown",
   "metadata": {},
   "source": [
    "We have 7197 iOS apps in this data set, and the columns that seem interesting are: 'track_name', 'currency', 'price', 'rating_count_tot', 'rating_count_ver', and 'prime_genre'. Not all column names are self-explanatory in this case, but details about each column can be found in the data set [documentation](https://www.kaggle.com/ramamet4/app-store-apple-data-set-10k-apps/home)."
   ]
  },
  {
   "cell_type": "markdown",
   "metadata": {},
   "source": [
    "## Before beginning our analysis\n",
    "We need to:<br/>\n",
    "- Detect inaccurate data, and correct or remove it.<br/>\n",
    "- Detect duplicate data, and remove the duplicates.<br/>\n",
    "\n",
    "We only build **free to download apps** and **for English-speaking audience**.<br/>\n",
    "This means that we'll need to:<br/>\n",
    "- Remove non-English apps like 日本語ソフト<br/>\n",
    "- Remove apps that aren't free."
   ]
  },
  {
   "cell_type": "markdown",
   "metadata": {},
   "source": [
    "# Deleting Wrong Data\n",
    "The Google Play data set has a dedicated discussion section, and we can see that one of the [discussions outlines](https://www.kaggle.com/lava18/google-play-store-apps/discussion/66015) an error for row 10472. Let's print this row and compare it against the header and another row that is correct."
   ]
  },
  {
   "cell_type": "code",
   "execution_count": 17,
   "metadata": {},
   "outputs": [
    {
     "name": "stdout",
     "output_type": "stream",
     "text": [
      "['Life Made WI-Fi Touchscreen Photo Frame', '1.9', '19', '3.0M', '1,000+', 'Free', '0', 'Everyone', '', 'February 11, 2018', '1.0.19', '4.0 and up']\n",
      "\n",
      "\n",
      "['App', 'Category', 'Rating', 'Reviews', 'Size', 'Installs', 'Type', 'Price', 'Content Rating', 'Genres', 'Last Updated', 'Current Ver', 'Android Ver']\n",
      "\n",
      "\n",
      "['Photo Editor & Candy Camera & Grid & ScrapBook', 'ART_AND_DESIGN', '4.1', '159', '19M', '10,000+', 'Free', '0', 'Everyone', 'Art & Design', 'January 7, 2018', '1.0.0', '4.0.3 and up']\n"
     ]
    }
   ],
   "source": [
    "print(android[10472])  # incorrect row\n",
    "print('\\n')\n",
    "print(android_header)  # header\n",
    "print('\\n')\n",
    "print(android[0])      # correct row"
   ]
  },
  {
   "cell_type": "markdown",
   "metadata": {},
   "source": [
    "The row 10472 corresponds to the app Life Made WI-Fi Touchscreen Photo Frame, and we can see that the rating is 19. This is clearly off because the maximum rating for a Google Play app is 5 (as mentioned in the (discussions section)[https://www.kaggle.com/lava18/google-play-store-apps/discussion/66015], this problem is caused by a missing value in the 'Category' column). As a consequence, we'll delete this row."
   ]
  },
  {
   "cell_type": "code",
   "execution_count": 18,
   "metadata": {},
   "outputs": [
    {
     "name": "stdout",
     "output_type": "stream",
     "text": [
      "10841\n",
      "10840\n"
     ]
    }
   ],
   "source": [
    "print(len(android))\n",
    "del android[10472]\n",
    "print(len(android))"
   ]
  },
  {
   "cell_type": "markdown",
   "metadata": {},
   "source": [
    "# Removing Duplicate Entries\n",
    "Simple check if there is duplicate apps on our two data sets."
   ]
  },
  {
   "cell_type": "code",
   "execution_count": 20,
   "metadata": {},
   "outputs": [
    {
     "name": "stdout",
     "output_type": "stream",
     "text": [
      "Android\n",
      "['Facebook', 'SOCIAL', '4.1', '78158306', 'Varies with device', '1,000,000,000+', 'Free', '0', 'Teen', 'Social', 'August 3, 2018', 'Varies with device', 'Varies with device']\n",
      "['Facebook', 'SOCIAL', '4.1', '78128208', 'Varies with device', '1,000,000,000+', 'Free', '0', 'Teen', 'Social', 'August 3, 2018', 'Varies with device', 'Varies with device']\n",
      "\n",
      "IOS\n"
     ]
    }
   ],
   "source": [
    "print('Android')\n",
    "for app in android:\n",
    "    name = app[0]\n",
    "    if name == 'Facebook':\n",
    "        print(app)\n",
    "\n",
    "print('\\nIOS')\n",
    "\n",
    "for app in ios:\n",
    "    name = app[0]\n",
    "    if name == 'Facebook':\n",
    "        print(app)\n",
    "        "
   ]
  },
  {
   "cell_type": "markdown",
   "metadata": {
    "collapsed": true
   },
   "source": [
    "### Write a function to check how many cases where an app occurs more than once:"
   ]
  },
  {
   "cell_type": "code",
   "execution_count": 41,
   "metadata": {},
   "outputs": [],
   "source": [
    "def counting_duplicate_app(dataset, dataset_name):\n",
    "    duplicate_apps = []\n",
    "    unique_apps = []\n",
    "    \n",
    "    for app in dataset:\n",
    "        # check duplicate by name of the apps\n",
    "        name = app[0]\n",
    "        if name in unique_apps:\n",
    "            duplicate_apps.append(name)\n",
    "        else:\n",
    "            unique_apps.append(name)\n",
    "    if duplicate_apps:\n",
    "        print(\"{} has duplicate apps, here are the details\".format(dataset_name))\n",
    "        print('Number of duplicate apps: ', len(duplicate_apps))\n",
    "        # print few names of apps that are duplicate\n",
    "        print('Examples of duplicate apps: ', duplicate_apps[:5])\n",
    "    else:\n",
    "        print(\"{} data set has no duplicate apps\\n\\n\".format(dataset_name))"
   ]
  },
  {
   "cell_type": "code",
   "execution_count": 42,
   "metadata": {},
   "outputs": [
    {
     "name": "stdout",
     "output_type": "stream",
     "text": [
      "IOS data set has no duplicate apps\n",
      "\n",
      "\n",
      "Android has duplicate apps, here are the details\n",
      "Number of duplicate apps:  1181\n",
      "Examples of duplicate apps:  ['Quick PDF Scanner + OCR FREE', 'Box', 'Google My Business', 'ZOOM Cloud Meetings', 'join.me - Simple Meetings']\n"
     ]
    }
   ],
   "source": [
    "# IOS\n",
    "counting_duplicate_app(ios, \"IOS\")\n",
    "# Android\n",
    "counting_duplicate_app(android, \"Android\")"
   ]
  },
  {
   "cell_type": "markdown",
   "metadata": {
    "collapsed": true
   },
   "source": [
    "We don't want to count certain apps more than once when we analyze data, so we need to remove the duplicate entries and keep only one entry per app. One thing we could do is remove the duplicate rows randomly, but we could probably find a better way.\n",
    "\n",
    "If you examine the rows we printed three cells above for the Facebook app, the main difference happens on the fourth position of each row, which corresponds to the number of reviews. The different numbers show that the data was collected at different times. We can use this to build a criterion for keeping rows. We won't remove rows randomly, but rather we'll keep the rows that have the highest number of reviews because the higher the number of reviews, the more reliable the ratings.\n",
    "\n",
    "On the previous screen, we looped through the Google Play data set and found that there are 1,181 duplicates. After we remove the duplicates, we should be left with 9,659 rows:"
   ]
  },
  {
   "cell_type": "code",
   "execution_count": 43,
   "metadata": {},
   "outputs": [
    {
     "name": "stdout",
     "output_type": "stream",
     "text": [
      "Expted length:  9659\n"
     ]
    }
   ],
   "source": [
    "# Because only Google Play data has duplicate data\n",
    "print('Expted length: ', len(android) - 1181)"
   ]
  },
  {
   "cell_type": "markdown",
   "metadata": {},
   "source": [
    "We will\n",
    "- Create a dictionary to store a unique name of app and the value is the highest value of **reviews** of the app.\n",
    "- Use that dictionary to create a new data set (for each app, only select the entry with the highest value of **reviews**)"
   ]
  },
  {
   "cell_type": "code",
   "execution_count": 44,
   "metadata": {},
   "outputs": [],
   "source": [
    "reviews_max = {}\n",
    "\n",
    "for each in android:\n",
    "    name = each[0]\n",
    "    value_reviews = float(each[3])\n",
    "        \n",
    "    if name in reviews_max and reviews_max[name] < value_reviews:\n",
    "        reviews_max[name] = value_reviews\n",
    "    elif name not in reviews_max:\n",
    "        reviews_max[name] = value_reviews"
   ]
  },
  {
   "cell_type": "code",
   "execution_count": 46,
   "metadata": {},
   "outputs": [
    {
     "name": "stdout",
     "output_type": "stream",
     "text": [
      "Expected length: 9659\n",
      "Actual length: 9659\n"
     ]
    }
   ],
   "source": [
    "print('Expected length:', len(android) - 1181)\n",
    "print('Actual length:', len(reviews_max))"
   ]
  },
  {
   "cell_type": "markdown",
   "metadata": {},
   "source": [
    "Now, let's use the `reviews_max` dictionary to remove the duplicates. For the duplicate cases, we'll only keep the entries with the highest number of reviews. In the code cell below:\n",
    "- We start by initializing two empty lists, `android_clean` and `already_added`.\n",
    "- We loop through the android data set, and for every iteration:\n",
    " - We isolate the name of the app and the number of reviews.\n",
    " - We add the current row (app) to the android_clean list, and the app name (name) to the `already_added` list **if**:\n",
    "  - The number of reviews of the current app matches the number of reviews of that app as described in the `reviews_max` dictionary\n",
    "  - And the name of the app is not already in the already_added list. We need to add this supplementary condition to account for those cases where the highest number of reviews of a duplicate app is the same for more than one entry (for example, the Box app has three entries, and the number of reviews is the same). If we just check for `reviews_max[name]` == `n_reviews`, we'll still end up with duplicate entries for some apps."
   ]
  },
  {
   "cell_type": "code",
   "execution_count": 47,
   "metadata": {},
   "outputs": [
    {
     "name": "stdout",
     "output_type": "stream",
     "text": [
      "9659\n"
     ]
    }
   ],
   "source": [
    "android_clean = []\n",
    "already_added = []\n",
    "\n",
    "for each in android:\n",
    "    name = each[0]\n",
    "    value_reviews = float(each[3])\n",
    "    # if statement:\n",
    "    # get name of this app, \n",
    "    # check if value of reviews is the highest values\n",
    "    # and check name to make sure it don't be duplicate again\n",
    "    \n",
    "    if (reviews_max[name] == value_reviews) and (name not in already_added):\n",
    "        android_clean.append(each)\n",
    "        already_added.append(name)\n",
    "\n",
    "print(len(android_clean))"
   ]
  },
  {
   "cell_type": "markdown",
   "metadata": {},
   "source": [
    "If you explore the data sets enough, you'll notice the names of some of the apps suggest they are not directed toward an English-speaking audience. Below, we see a couple of examples from both data sets:\n"
   ]
  },
  {
   "cell_type": "code",
   "execution_count": 48,
   "metadata": {},
   "outputs": [
    {
     "name": "stdout",
     "output_type": "stream",
     "text": [
      "爱奇艺PPS -《欢乐颂2》电视剧热播\n",
      "【脱出ゲーム】絶対に最後までプレイしないで 〜謎解き＆ブロックパズル〜\n",
      "中国語 AQリスニング\n",
      "لعبة تقدر تربح DZ\n"
     ]
    }
   ],
   "source": [
    "print(ios[813][1])\n",
    "print(ios[6731][1])\n",
    "\n",
    "print(android_clean[4412][0])\n",
    "print(android_clean[7940][0])"
   ]
  },
  {
   "cell_type": "markdown",
   "metadata": {},
   "source": [
    "We're not interested in keeping these kind of apps, so we'll remove them. One way to go about this is to remove each app whose name contains a symbol that is not commonly used in English text — English text usually includes letters from the English alphabet, numbers composed of digits from 0 to 9, punctuation marks (., !, ?, ;, etc.), and other symbols (+, *, /, etc.).\n",
    "\n",
    "All these characters that are specific to English texts are encoded using the ASCII standard. Each ASCII character has a corresponding number between 0 and 127 associated with it, and we can take advantage of that to build a function that checks an app name and tells us whether it contains non-ASCII characters.\n",
    "\n",
    "We built this function below, and we use the built-in ord() function to find out the corresponding encoding number of each character."
   ]
  },
  {
   "cell_type": "code",
   "execution_count": 49,
   "metadata": {},
   "outputs": [],
   "source": [
    "def is_english(name):\n",
    "    for char in name:\n",
    "        if ord(char) > 127:\n",
    "            return False\n",
    "    return True"
   ]
  },
  {
   "cell_type": "code",
   "execution_count": 50,
   "metadata": {},
   "outputs": [
    {
     "name": "stdout",
     "output_type": "stream",
     "text": [
      "True\n",
      "False\n",
      "False\n",
      "False\n"
     ]
    }
   ],
   "source": [
    "print(is_english('Instagram'))\n",
    "print(is_english('爱奇艺PPS -《欢乐颂2》电视剧热播'))\n",
    "print(is_english('Docs To Go™ Free Office Suite'))\n",
    "print(is_english('Instachat 😜'))"
   ]
  },
  {
   "cell_type": "markdown",
   "metadata": {
    "collapsed": true
   },
   "source": [
    "The algorithm seems work fine, but wrong at the test 3 and 4.\n",
    "If we're going to use that function, we'll lose useful data since many English apps will be incorrectly labeled as a non-English.\n",
    "We define a threshold, if there is more than 3 character that non-English char (over 127), we will mark it as non-English app."
   ]
  },
  {
   "cell_type": "code",
   "execution_count": 51,
   "metadata": {},
   "outputs": [],
   "source": [
    "def is_english(name):\n",
    "    over_127 = 0\n",
    "    for char in name:\n",
    "        if ord(char) > 127:\n",
    "            over_127 += 1\n",
    "            \n",
    "    if over_127 > 3:\n",
    "        return False\n",
    "    else:\n",
    "        return True"
   ]
  },
  {
   "cell_type": "code",
   "execution_count": 53,
   "metadata": {},
   "outputs": [
    {
     "name": "stdout",
     "output_type": "stream",
     "text": [
      "True\n",
      "False\n",
      "True\n",
      "True\n"
     ]
    }
   ],
   "source": [
    "# Test the function\n",
    "print(is_english('Instagram'))\n",
    "print(is_english('爱奇艺PPS -《欢乐颂2》电视剧热播'))\n",
    "print(is_english('Docs To Go™ Free Office Suite'))\n",
    "print(is_english('Instachat 😜'))"
   ]
  },
  {
   "cell_type": "markdown",
   "metadata": {},
   "source": [
    "The function is still not perfect, and very few non-English apps might get past our filter, but this seems good enough at this point in our analysis — I don't want to spend too much time on optimization at this point.\n",
    "\n",
    "Below, we use the is_english() function to filter out the non-English apps for both data sets:"
   ]
  },
  {
   "cell_type": "code",
   "execution_count": 54,
   "metadata": {},
   "outputs": [],
   "source": [
    "english_app_android = []\n",
    "english_app_ios = []\n",
    "\n",
    "for app in android_clean:\n",
    "    name = app[0]\n",
    "    if is_english(name):\n",
    "        english_app_android.append(app)\n",
    "        \n",
    "for app in ios:\n",
    "    name = app[1]\n",
    "    if is_english(name):\n",
    "        english_app_ios.append(app)\n"
   ]
  },
  {
   "cell_type": "code",
   "execution_count": 56,
   "metadata": {},
   "outputs": [
    {
     "name": "stdout",
     "output_type": "stream",
     "text": [
      "['Photo Editor & Candy Camera & Grid & ScrapBook', 'ART_AND_DESIGN', '4.1', '159', '19M', '10,000+', 'Free', '0', 'Everyone', 'Art & Design', 'January 7, 2018', '1.0.0', '4.0.3 and up']\n",
      "\n",
      "\n",
      "['U Launcher Lite – FREE Live Cool Themes, Hide Apps', 'ART_AND_DESIGN', '4.7', '87510', '8.7M', '5,000,000+', 'Free', '0', 'Everyone', 'Art & Design', 'August 1, 2018', '1.2.4', '4.0.3 and up']\n",
      "\n",
      "\n",
      "['Sketch - Draw & Paint', 'ART_AND_DESIGN', '4.5', '215644', '25M', '50,000,000+', 'Free', '0', 'Teen', 'Art & Design', 'June 8, 2018', 'Varies with device', '4.2 and up']\n",
      "\n",
      "\n",
      "Number of rows: 9614\n",
      "Number of columns: 13\n",
      "\n",
      "\n",
      "['284882215', 'Facebook', '389879808', 'USD', '0.0', '2974676', '212', '3.5', '3.5', '95.0', '4+', 'Social Networking', '37', '1', '29', '1']\n",
      "\n",
      "\n",
      "['389801252', 'Instagram', '113954816', 'USD', '0.0', '2161558', '1289', '4.5', '4.0', '10.23', '12+', 'Photo & Video', '37', '0', '29', '1']\n",
      "\n",
      "\n",
      "['529479190', 'Clash of Clans', '116476928', 'USD', '0.0', '2130805', '579', '4.5', '4.5', '9.24.12', '9+', 'Games', '38', '5', '18', '1']\n",
      "\n",
      "\n",
      "Number of rows: 6183\n",
      "Number of columns: 16\n"
     ]
    }
   ],
   "source": [
    "explore_data(english_app_android, 0, 3, True)\n",
    "print(\"\\n\")\n",
    "explore_data(english_app_ios, 0, 3, True)"
   ]
  },
  {
   "cell_type": "markdown",
   "metadata": {},
   "source": [
    "We can see that we're left with 9614 Android apps and 6183 iOS apps."
   ]
  },
  {
   "cell_type": "markdown",
   "metadata": {
    "collapsed": true
   },
   "source": [
    "### So far in the data cleaning process, we:\n",
    "- Removed inaccurate data\n",
    "- Removed duplicate app entries\n",
    "- Removed non-English apps\n",
    "\n",
    "Last step is remove non-free app."
   ]
  },
  {
   "cell_type": "markdown",
   "metadata": {},
   "source": [
    "# Isolating the Free Apps\n",
    "As we mentioned in the introduction, we only build apps that are free to download and install, and our main source of revenue consists of in-app ads. Our data sets contain both free and non-free apps, and we'll need to isolate only the free apps for our analysis. Below, we isolate the free apps for both our data sets."
   ]
  },
  {
   "cell_type": "code",
   "execution_count": 57,
   "metadata": {},
   "outputs": [
    {
     "name": "stdout",
     "output_type": "stream",
     "text": [
      "8864\n",
      "3222\n"
     ]
    }
   ],
   "source": [
    "android_final_data = []\n",
    "ios_final_data = []\n",
    "\n",
    "# Android\n",
    "for app in english_app_android:\n",
    "    price = app[7]\n",
    "    \n",
    "    if price == '0':\n",
    "        android_final_data.append(app)\n",
    "\n",
    "# IOS\n",
    "for app in english_app_ios:\n",
    "    price = app[4]\n",
    "    \n",
    "    if price == '0.0':\n",
    "        ios_final_data.append(app)       \n",
    "        \n",
    "# check the leng of each data set:\n",
    "\n",
    "print(len(android_final_data))\n",
    "print(len(ios_final_data))"
   ]
  },
  {
   "cell_type": "markdown",
   "metadata": {
    "collapsed": true
   },
   "source": [
    "We have 8864 android apps and 3222 ios apps, which should be enough for our analysis.\n",
    "\n",
    "As we mentioned in the introduction, our revenue is influenced by the number of users using our app so we can get money by ads.\n",
    "And our app will be launch in both App Store and CH Play, so we have to find the successful \"factor\" in both markets.\n",
    "\n",
    "To minimize risks and overhead, our validation strategy for an app idea is comprised of three steps:\n",
    "\n",
    "- Build a minimal Android version of the app, and add it to Google Play.\n",
    "- If the app has a good response from users, we then develop it further.\n",
    "- If the app is profitable after six months, we also build an iOS version of the app and add it to the App Store.\n",
    "\n",
    "Because our end goal is to add the app on both the App Store and Google Play, we need to find app profiles that are successful on both markets. For instance, a profile that might work well for both markets might be a productivity app like learning languages.\n",
    "\n",
    "Let's begin the analysis by getting a sense of the most common genres for each market.\n",
    "\n",
    "For this, we'll build a frequency table for the prime_genre column of the App Store data set, and the Genres and Category columns of the Google Play data set."
   ]
  },
  {
   "cell_type": "markdown",
   "metadata": {
    "collapsed": true
   },
   "source": [
    "We'll build two functions we can use to analyze the frequency tables:<br/>\n",
    "- One function to generate frequency tables that show percentages\n",
    "- Another function we can use to display the percentages in a descending order"
   ]
  },
  {
   "cell_type": "code",
   "execution_count": 58,
   "metadata": {},
   "outputs": [],
   "source": [
    "def frequency_table(dataset, index):\n",
    "    frequency_table = {}\n",
    "    total = 0\n",
    "    \n",
    "    for row in dataset:\n",
    "        total += 1\n",
    "        value = row[index]\n",
    "        if value in frequency_table:\n",
    "            frequency_table[value] += 1\n",
    "        else:\n",
    "            frequency_table[value] = 1\n",
    "    \n",
    "    frequency_table_percentage = {}\n",
    "    \n",
    "    for key in frequency_table:\n",
    "        frequency_table_percentage[key] = (frequency_table[key] / total) * 100\n",
    "    \n",
    "    return frequency_table_percentage\n",
    "    \n",
    "\n",
    "def display_table(dataset, index):\n",
    "    table = frequency_table(dataset, index)\n",
    "    table_display = []\n",
    "    for key in table:\n",
    "        key_val_as_tuple = (table[key], key)\n",
    "        table_display.append(key_val_as_tuple)\n",
    "\n",
    "    table_sorted = sorted(table_display, reverse = True)\n",
    "    for entry in table_sorted:\n",
    "        print(entry[1], ':', entry[0])"
   ]
  },
  {
   "cell_type": "code",
   "execution_count": 59,
   "metadata": {},
   "outputs": [
    {
     "name": "stdout",
     "output_type": "stream",
     "text": [
      "Games : 58.16263190564867\n",
      "Entertainment : 7.883302296710118\n",
      "Photo & Video : 4.9658597144630665\n",
      "Education : 3.662321539416512\n",
      "Social Networking : 3.2898820608317814\n",
      "Shopping : 2.60707635009311\n",
      "Utilities : 2.5139664804469275\n",
      "Sports : 2.1415270018621975\n",
      "Music : 2.0484171322160147\n",
      "Health & Fitness : 2.0173805090006205\n",
      "Productivity : 1.7380509000620732\n",
      "Lifestyle : 1.5828677839851024\n",
      "News : 1.3345747982619491\n",
      "Travel : 1.2414649286157666\n",
      "Finance : 1.1173184357541899\n",
      "Weather : 0.8690254500310366\n",
      "Food & Drink : 0.8069522036002483\n",
      "Reference : 0.5586592178770949\n",
      "Business : 0.5276225946617008\n",
      "Book : 0.4345127250155183\n",
      "Navigation : 0.186219739292365\n",
      "Medical : 0.186219739292365\n",
      "Catalogs : 0.12414649286157665\n"
     ]
    }
   ],
   "source": [
    "display_table(ios_final_data, -5) # prime_genre"
   ]
  },
  {
   "cell_type": "markdown",
   "metadata": {},
   "source": [
    "Analyze the frequency table you generated for the prime_genre column of the App Store data set.<br/>\n",
    "- The most common genre is Games(58.16%) and the runner-up is Entertainment(close to 8%).\n",
    "- Other patterns are Photo & Video(close to 5%), Education(3.66%), Social Networking(3.29%), Shopping..\n",
    "- My general impression is the most apps designed for entertainment\n",
    "\n",
    "The general impression is that App Store (at least the part containing free English apps) is dominated by apps that are designed for fun (games, entertainment, photo and video, social networking, sports, music, etc.), while apps with practical purposes (education, shopping, utilities, productivity, lifestyle, etc.) are rare. However, the fact that fun apps are the most numerous doesn't also imply that they also have the greatest number of users.\n",
    "\n",
    "Let's continue by examining the Genres and Category columns of the Google Play data set (two columns which seem to be related)."
   ]
  },
  {
   "cell_type": "code",
   "execution_count": 60,
   "metadata": {},
   "outputs": [
    {
     "name": "stdout",
     "output_type": "stream",
     "text": [
      "FAMILY : 18.907942238267147\n",
      "GAME : 9.724729241877256\n",
      "TOOLS : 8.461191335740072\n",
      "BUSINESS : 4.591606498194946\n",
      "LIFESTYLE : 3.9034296028880866\n",
      "PRODUCTIVITY : 3.892148014440433\n",
      "FINANCE : 3.7003610108303246\n",
      "MEDICAL : 3.531137184115524\n",
      "SPORTS : 3.395758122743682\n",
      "PERSONALIZATION : 3.3167870036101084\n",
      "COMMUNICATION : 3.2378158844765346\n",
      "HEALTH_AND_FITNESS : 3.0798736462093865\n",
      "PHOTOGRAPHY : 2.944494584837545\n",
      "NEWS_AND_MAGAZINES : 2.7978339350180503\n",
      "SOCIAL : 2.6624548736462095\n",
      "TRAVEL_AND_LOCAL : 2.33528880866426\n",
      "SHOPPING : 2.2450361010830324\n",
      "BOOKS_AND_REFERENCE : 2.1435018050541514\n",
      "DATING : 1.861462093862816\n",
      "VIDEO_PLAYERS : 1.7937725631768955\n",
      "MAPS_AND_NAVIGATION : 1.3989169675090252\n",
      "FOOD_AND_DRINK : 1.2409747292418771\n",
      "EDUCATION : 1.1620036101083033\n",
      "ENTERTAINMENT : 0.9589350180505415\n",
      "LIBRARIES_AND_DEMO : 0.9363718411552346\n",
      "AUTO_AND_VEHICLES : 0.9250902527075812\n",
      "HOUSE_AND_HOME : 0.8235559566787004\n",
      "WEATHER : 0.8009927797833934\n",
      "EVENTS : 0.7107400722021661\n",
      "PARENTING : 0.6543321299638989\n",
      "ART_AND_DESIGN : 0.6430505415162455\n",
      "COMICS : 0.6204873646209386\n",
      "BEAUTY : 0.5979241877256317\n"
     ]
    }
   ],
   "source": [
    "display_table(android_final_data, 1) # category"
   ]
  },
  {
   "cell_type": "markdown",
   "metadata": {},
   "source": [
    "The landscape seems significantly different on Google Play: there are not that many apps designed for fun, and it seems that a good number of apps are designed for practical purposes (family, tools, business, lifestyle, productivity, etc.). However, if we investigate this further, we can see that the family category (which accounts for almost 19% of the apps) means mostly games for kids.\n",
    "\n",
    "![ch play genre](ch_play_genre.png \"ch play genre\")\n"
   ]
  },
  {
   "cell_type": "markdown",
   "metadata": {},
   "source": [
    "Even so, practical apps seem to have a better representation on Google Play compared to App Store. This picture is also confirmed by the frequency table we see for the Genres column:"
   ]
  },
  {
   "cell_type": "code",
   "execution_count": 61,
   "metadata": {},
   "outputs": [
    {
     "name": "stdout",
     "output_type": "stream",
     "text": [
      "Tools : 8.449909747292418\n",
      "Entertainment : 6.069494584837545\n",
      "Education : 5.347472924187725\n",
      "Business : 4.591606498194946\n",
      "Productivity : 3.892148014440433\n",
      "Lifestyle : 3.892148014440433\n",
      "Finance : 3.7003610108303246\n",
      "Medical : 3.531137184115524\n",
      "Sports : 3.463447653429603\n",
      "Personalization : 3.3167870036101084\n",
      "Communication : 3.2378158844765346\n",
      "Action : 3.1024368231046933\n",
      "Health & Fitness : 3.0798736462093865\n",
      "Photography : 2.944494584837545\n",
      "News & Magazines : 2.7978339350180503\n",
      "Social : 2.6624548736462095\n",
      "Travel & Local : 2.3240072202166067\n",
      "Shopping : 2.2450361010830324\n",
      "Books & Reference : 2.1435018050541514\n",
      "Simulation : 2.0419675090252705\n",
      "Dating : 1.861462093862816\n",
      "Arcade : 1.8501805054151623\n",
      "Video Players & Editors : 1.7712093862815883\n",
      "Casual : 1.7599277978339352\n",
      "Maps & Navigation : 1.3989169675090252\n",
      "Food & Drink : 1.2409747292418771\n",
      "Puzzle : 1.128158844765343\n",
      "Racing : 0.9927797833935018\n",
      "Role Playing : 0.9363718411552346\n",
      "Libraries & Demo : 0.9363718411552346\n",
      "Auto & Vehicles : 0.9250902527075812\n",
      "Strategy : 0.9138086642599278\n",
      "House & Home : 0.8235559566787004\n",
      "Weather : 0.8009927797833934\n",
      "Events : 0.7107400722021661\n",
      "Adventure : 0.6768953068592057\n",
      "Comics : 0.6092057761732852\n",
      "Beauty : 0.5979241877256317\n",
      "Art & Design : 0.5979241877256317\n",
      "Parenting : 0.4963898916967509\n",
      "Card : 0.45126353790613716\n",
      "Casino : 0.42870036101083037\n",
      "Trivia : 0.41741877256317694\n",
      "Educational;Education : 0.39485559566787\n",
      "Board : 0.3835740072202166\n",
      "Educational : 0.3722924187725632\n",
      "Education;Education : 0.33844765342960287\n",
      "Word : 0.2594765342960289\n",
      "Casual;Pretend Play : 0.236913357400722\n",
      "Music : 0.2030685920577617\n",
      "Racing;Action & Adventure : 0.16922382671480143\n",
      "Puzzle;Brain Games : 0.16922382671480143\n",
      "Entertainment;Music & Video : 0.16922382671480143\n",
      "Casual;Brain Games : 0.13537906137184114\n",
      "Casual;Action & Adventure : 0.13537906137184114\n",
      "Arcade;Action & Adventure : 0.12409747292418773\n",
      "Action;Action & Adventure : 0.10153429602888085\n",
      "Educational;Pretend Play : 0.09025270758122744\n",
      "Simulation;Action & Adventure : 0.078971119133574\n",
      "Parenting;Education : 0.078971119133574\n",
      "Entertainment;Brain Games : 0.078971119133574\n",
      "Board;Brain Games : 0.078971119133574\n",
      "Parenting;Music & Video : 0.06768953068592057\n",
      "Educational;Brain Games : 0.06768953068592057\n",
      "Casual;Creativity : 0.06768953068592057\n",
      "Art & Design;Creativity : 0.06768953068592057\n",
      "Education;Pretend Play : 0.056407942238267145\n",
      "Role Playing;Pretend Play : 0.04512635379061372\n",
      "Education;Creativity : 0.04512635379061372\n",
      "Role Playing;Action & Adventure : 0.033844765342960284\n",
      "Puzzle;Action & Adventure : 0.033844765342960284\n",
      "Entertainment;Creativity : 0.033844765342960284\n",
      "Entertainment;Action & Adventure : 0.033844765342960284\n",
      "Educational;Creativity : 0.033844765342960284\n",
      "Educational;Action & Adventure : 0.033844765342960284\n",
      "Education;Music & Video : 0.033844765342960284\n",
      "Education;Brain Games : 0.033844765342960284\n",
      "Education;Action & Adventure : 0.033844765342960284\n",
      "Adventure;Action & Adventure : 0.033844765342960284\n",
      "Video Players & Editors;Music & Video : 0.02256317689530686\n",
      "Sports;Action & Adventure : 0.02256317689530686\n",
      "Simulation;Pretend Play : 0.02256317689530686\n",
      "Puzzle;Creativity : 0.02256317689530686\n",
      "Music;Music & Video : 0.02256317689530686\n",
      "Entertainment;Pretend Play : 0.02256317689530686\n",
      "Casual;Education : 0.02256317689530686\n",
      "Board;Action & Adventure : 0.02256317689530686\n",
      "Video Players & Editors;Creativity : 0.01128158844765343\n",
      "Trivia;Education : 0.01128158844765343\n",
      "Travel & Local;Action & Adventure : 0.01128158844765343\n",
      "Tools;Education : 0.01128158844765343\n",
      "Strategy;Education : 0.01128158844765343\n",
      "Strategy;Creativity : 0.01128158844765343\n",
      "Strategy;Action & Adventure : 0.01128158844765343\n",
      "Simulation;Education : 0.01128158844765343\n",
      "Role Playing;Brain Games : 0.01128158844765343\n",
      "Racing;Pretend Play : 0.01128158844765343\n",
      "Puzzle;Education : 0.01128158844765343\n",
      "Parenting;Brain Games : 0.01128158844765343\n",
      "Music & Audio;Music & Video : 0.01128158844765343\n",
      "Lifestyle;Pretend Play : 0.01128158844765343\n",
      "Lifestyle;Education : 0.01128158844765343\n",
      "Health & Fitness;Education : 0.01128158844765343\n",
      "Health & Fitness;Action & Adventure : 0.01128158844765343\n",
      "Entertainment;Education : 0.01128158844765343\n",
      "Communication;Creativity : 0.01128158844765343\n",
      "Comics;Creativity : 0.01128158844765343\n",
      "Casual;Music & Video : 0.01128158844765343\n",
      "Card;Action & Adventure : 0.01128158844765343\n",
      "Books & Reference;Education : 0.01128158844765343\n",
      "Art & Design;Pretend Play : 0.01128158844765343\n",
      "Art & Design;Action & Adventure : 0.01128158844765343\n",
      "Arcade;Pretend Play : 0.01128158844765343\n",
      "Adventure;Education : 0.01128158844765343\n"
     ]
    }
   ],
   "source": [
    "display_table(android_final_data, -4) # Genres"
   ]
  },
  {
   "cell_type": "markdown",
   "metadata": {},
   "source": [
    "The difference between the Genres and the Category columns is not crystal clear, but one thing we can notice is that the Genres column is much more granular (it has more categories). We're only looking for the bigger picture at the moment, so we'll only work with the Category column moving forward.\n",
    "\n",
    "Up to this point, we found that the App Store is dominated by apps designed for fun, while Google Play shows a more balanced landscape of both practical and for-fun apps. Now we'd like to get an idea about the kind of apps that have most users."
   ]
  },
  {
   "cell_type": "markdown",
   "metadata": {},
   "source": [
    "# Most Popular Apps by Genre on the App Store\n",
    "One way to find out what genres are the most popular (have the most users) is to calculate the average number of installs for each app genre.<br/>\n",
    "For the Google Play data set, we can find this information in the Installs column, but this information is missing for the App Store data set.<br/>\n",
    "As a workaround, we'll take the total number of `user ratings` as a proxy, which we can find in the `rating_count_tot`app.<br/>\n",
    "Let's start with calculating the average number of user ratings per app genre on the App Store. To do that, we'll need to: <br/>\n",
    "- Isolate the apps of each genre.\n",
    "- Sum up the user ratings for the apps of that genre.\n",
    "- Divide the sum by the number of apps belonging to that genre (not by the total number of apps).\n",
    "\n",
    "Below, we calculate the average number of user ratings per app genre on the App Store:"
   ]
  },
  {
   "cell_type": "code",
   "execution_count": 64,
   "metadata": {},
   "outputs": [
    {
     "name": "stdout",
     "output_type": "stream",
     "text": [
      "Social Networking  :  71548.34905660378\n",
      "Photo & Video  :  28441.54375\n",
      "Games  :  22788.6696905016\n",
      "Music  :  57326.530303030304\n",
      "Reference  :  74942.11111111111\n",
      "Health & Fitness  :  23298.015384615384\n",
      "Weather  :  52279.892857142855\n",
      "Utilities  :  18684.456790123455\n",
      "Travel  :  28243.8\n",
      "Shopping  :  26919.690476190477\n",
      "News  :  21248.023255813954\n",
      "Navigation  :  86090.33333333333\n",
      "Lifestyle  :  16485.764705882353\n",
      "Entertainment  :  14029.830708661417\n",
      "Food & Drink  :  33333.92307692308\n",
      "Sports  :  23008.898550724636\n",
      "Book  :  39758.5\n",
      "Finance  :  31467.944444444445\n",
      "Education  :  7003.983050847458\n",
      "Productivity  :  21028.410714285714\n",
      "Business  :  7491.117647058823\n",
      "Catalogs  :  4004.0\n",
      "Medical  :  612.0\n"
     ]
    }
   ],
   "source": [
    "prime_genres = frequency_table(ios_final_data, -5)\n",
    "\n",
    "for genre in prime_genres:\n",
    "    total = 0\n",
    "    len_genre = 0\n",
    "    for app in ios_final_data:\n",
    "        \n",
    "        genre_app = app[-5]\n",
    "        \n",
    "        if genre_app == genre:\n",
    "            number_ratings = float(app[5])\n",
    "            total += number_ratings\n",
    "            len_genre += 1\n",
    "            \n",
    "    avg_number_ratings = total / len_genre\n",
    "    print(genre, ' : ', avg_number_ratings)"
   ]
  },
  {
   "cell_type": "markdown",
   "metadata": {},
   "source": [
    "Let's take a look at some genres that have the most user reviews"
   ]
  },
  {
   "cell_type": "code",
   "execution_count": 65,
   "metadata": {},
   "outputs": [
    {
     "name": "stdout",
     "output_type": "stream",
     "text": [
      "Waze - GPS Navigation, Maps & Real-time Traffic  :  345046\n",
      "Google Maps - Navigation & Transit  :  154911\n",
      "Geocaching®  :  12811\n",
      "CoPilot GPS – Car Navigation & Offline Maps  :  3582\n",
      "ImmobilienScout24: Real Estate Search in Germany  :  187\n",
      "Railway Route Search  :  5\n"
     ]
    }
   ],
   "source": [
    "for app in ios_final_data:\n",
    "    if app[-5] == 'Navigation':\n",
    "        print(app[1], ' : ', app[5])"
   ]
  },
  {
   "cell_type": "markdown",
   "metadata": {},
   "source": [
    "On average, navigation apps have the highest number of user reviews, but this figure is heavily influenced by Waze and Google Maps, which have close to half a million user reviews together:"
   ]
  },
  {
   "cell_type": "code",
   "execution_count": 67,
   "metadata": {},
   "outputs": [
    {
     "name": "stdout",
     "output_type": "stream",
     "text": [
      "Facebook  :  2974676\n",
      "Pinterest  :  1061624\n",
      "Skype for iPhone  :  373519\n",
      "Messenger  :  351466\n",
      "Tumblr  :  334293\n",
      "WhatsApp Messenger  :  287589\n",
      "Kik  :  260965\n",
      "ooVoo – Free Video Call, Text and Voice  :  177501\n",
      "TextNow - Unlimited Text + Calls  :  164963\n",
      "Viber Messenger – Text & Call  :  164249\n",
      "Followers - Social Analytics For Instagram  :  112778\n",
      "MeetMe - Chat and Meet New People  :  97072\n",
      "We Heart It - Fashion, wallpapers, quotes, tattoos  :  90414\n",
      "InsTrack for Instagram - Analytics Plus More  :  85535\n",
      "Tango - Free Video Call, Voice and Chat  :  75412\n",
      "LinkedIn  :  71856\n",
      "Match™ - #1 Dating App.  :  60659\n",
      "Skype for iPad  :  60163\n",
      "POF - Best Dating App for Conversations  :  52642\n",
      "Timehop  :  49510\n",
      "Find My Family, Friends & iPhone - Life360 Locator  :  43877\n",
      "Whisper - Share, Express, Meet  :  39819\n",
      "Hangouts  :  36404\n",
      "LINE PLAY - Your Avatar World  :  34677\n",
      "WeChat  :  34584\n",
      "Badoo - Meet New People, Chat, Socialize.  :  34428\n",
      "Followers + for Instagram - Follower Analytics  :  28633\n",
      "GroupMe  :  28260\n",
      "Marco Polo Video Walkie Talkie  :  27662\n",
      "Miitomo  :  23965\n",
      "SimSimi  :  23530\n",
      "Grindr - Gay and same sex guys chat, meet and date  :  23201\n",
      "Wishbone - Compare Anything  :  20649\n",
      "imo video calls and chat  :  18841\n",
      "After School - Funny Anonymous School News  :  18482\n",
      "Quick Reposter - Repost, Regram and Reshare Photos  :  17694\n",
      "Weibo HD  :  16772\n",
      "Repost for Instagram  :  15185\n",
      "Live.me – Live Video Chat & Make Friends Nearby  :  14724\n",
      "Nextdoor  :  14402\n",
      "Followers Analytics for Instagram - InstaReport  :  13914\n",
      "YouNow: Live Stream Video Chat  :  12079\n",
      "FollowMeter for Instagram - Followers Tracking  :  11976\n",
      "LINE  :  11437\n",
      "eHarmony™ Dating App - Meet Singles  :  11124\n",
      "Discord - Chat for Gamers  :  9152\n",
      "QQ  :  9109\n",
      "Telegram Messenger  :  7573\n",
      "Weibo  :  7265\n",
      "Periscope - Live Video Streaming Around the World  :  6062\n",
      "Chat for Whatsapp - iPad Version  :  5060\n",
      "QQ HD  :  5058\n",
      "Followers Analysis Tool For Instagram App Free  :  4253\n",
      "live.ly - live video streaming  :  4145\n",
      "Houseparty - Group Video Chat  :  3991\n",
      "SOMA Messenger  :  3232\n",
      "Monkey  :  3060\n",
      "Down To Lunch  :  2535\n",
      "Flinch - Video Chat Staring Contest  :  2134\n",
      "Highrise - Your Avatar Community  :  2011\n",
      "LOVOO - Dating Chat  :  1985\n",
      "PlayStation®Messages  :  1918\n",
      "BOO! - Video chat camera with filters & stickers  :  1805\n",
      "Qzone  :  1649\n",
      "Chatous - Chat with new people  :  1609\n",
      "Kiwi - Q&A  :  1538\n",
      "GhostCodes - a discovery app for Snapchat  :  1313\n",
      "Jodel  :  1193\n",
      "FireChat  :  1037\n",
      "Google Duo - simple video calling  :  1033\n",
      "Fiesta by Tango - Chat & Meet New People  :  885\n",
      "Google Allo — smart messaging  :  862\n",
      "Peach — share vividly  :  727\n",
      "Hey! VINA - Where Women Meet New Friends  :  719\n",
      "Battlefield™ Companion  :  689\n",
      "All Devices for WhatsApp - Messenger for iPad  :  682\n",
      "Chat for Pokemon Go - GoChat  :  500\n",
      "IAmNaughty – Dating App to Meet New People Online  :  463\n",
      "Qzone HD  :  458\n",
      "Zenly - Locate your friends in realtime  :  427\n",
      "League of Legends Friends  :  420\n",
      "豆瓣  :  407\n",
      "Candid - Speak Your Mind Freely  :  398\n",
      "知乎  :  397\n",
      "Selfeo  :  366\n",
      "Fake-A-Location Free ™  :  354\n",
      "Popcorn Buzz - Free Group Calls  :  281\n",
      "Fam — Group video calling for iMessage  :  279\n",
      "QQ International  :  274\n",
      "Ameba  :  269\n",
      "SoundCloud Pulse: for creators  :  240\n",
      "Tantan  :  235\n",
      "Cougar Dating & Life Style App for Mature Women  :  213\n",
      "Rawr Messenger - Dab your chat  :  180\n",
      "WhenToPost: Best Time to Post Photos for Instagram  :  158\n",
      "Inke—Broadcast an amazing life  :  147\n",
      "Mustknow - anonymous video Q&A  :  53\n",
      "CTFxCmoji  :  39\n",
      "Lobi  :  36\n",
      "Chain: Collaborate On MyVideo Story/Group Video  :  35\n",
      "botman - Real time video chat  :  7\n",
      "BestieBox  :  0\n",
      "MATCH ON LINE chat  :  0\n",
      "niconico ch  :  0\n",
      "LINE BLOG  :  0\n",
      "bit-tube - Live Stream Video Chat  :  0\n"
     ]
    }
   ],
   "source": [
    "for app in ios_final_data:\n",
    "    if app[-5] == 'Social Networking':\n",
    "        print(app[1], ' : ', app[5])"
   ]
  },
  {
   "cell_type": "markdown",
   "metadata": {},
   "source": [
    "The same pattern applies to social networking apps, where the average number is heavily influenced by a few giants like Facebook, Pinterest, Skype, etc. Same applies to music apps, where a few big players like Pandora, Spotify, and Shazam heavily influence the average number."
   ]
  },
  {
   "cell_type": "code",
   "execution_count": 68,
   "metadata": {},
   "outputs": [
    {
     "name": "stdout",
     "output_type": "stream",
     "text": [
      "Bible : 985920\n",
      "Dictionary.com Dictionary & Thesaurus : 200047\n",
      "Dictionary.com Dictionary & Thesaurus for iPad : 54175\n",
      "Google Translate : 26786\n",
      "Muslim Pro: Ramadan 2017 Prayer Times, Azan, Quran : 18418\n",
      "New Furniture Mods - Pocket Wiki & Game Tools for Minecraft PC Edition : 17588\n",
      "Merriam-Webster Dictionary : 16849\n",
      "Night Sky : 12122\n",
      "City Maps for Minecraft PE - The Best Maps for Minecraft Pocket Edition (MCPE) : 8535\n",
      "LUCKY BLOCK MOD ™ for Minecraft PC Edition - The Best Pocket Wiki & Mods Installer Tools : 4693\n",
      "GUNS MODS for Minecraft PC Edition - Mods Tools : 1497\n",
      "Guides for Pokémon GO - Pokemon GO News and Cheats : 826\n",
      "WWDC : 762\n",
      "Horror Maps for Minecraft PE - Download The Scariest Maps for Minecraft Pocket Edition (MCPE) Free : 718\n",
      "VPN Express : 14\n",
      "Real Bike Traffic Rider Virtual Reality Glasses : 8\n",
      "教えて!goo : 0\n",
      "Jishokun-Japanese English Dictionary & Translator : 0\n"
     ]
    }
   ],
   "source": [
    "for app in ios_final_data:\n",
    "    if app[-5] == 'Reference':\n",
    "        print(app[1], ':', app[5])"
   ]
  },
  {
   "cell_type": "markdown",
   "metadata": {},
   "source": [
    "Reference apps have 74,942 user ratings on average, but it's actually the Bible and Dictionary.com which skew up the average rating."
   ]
  },
  {
   "cell_type": "markdown",
   "metadata": {},
   "source": [
    "Our aim is to find popular genres, but navigation, social networking or music apps might seem more popular than they really are. The average number of ratings seem to be skewed by very few apps which have hundreds of thousands of user ratings, while the other apps may struggle to get past the 10,000 threshold. \n",
    "\n",
    "We could get a better picture by removing these extremely popular apps for each genre and then rework the averages, but we'll leave this level of detail for later.\n",
    "\n"
   ]
  },
  {
   "cell_type": "markdown",
   "metadata": {},
   "source": [
    "# Most Popular Apps by Genre on Google Play\n",
    "For the Google Play market, we actually have data about the number of installs, so we should be able to get a clearer picture about genre popularity. However, the install numbers don't seem precise enough — we can see that most values are open-ended (100+, 1,000+, 5,000+, etc.):"
   ]
  },
  {
   "cell_type": "code",
   "execution_count": 69,
   "metadata": {},
   "outputs": [
    {
     "name": "stdout",
     "output_type": "stream",
     "text": [
      "1,000,000+ : 15.726534296028879\n",
      "100,000+ : 11.552346570397113\n",
      "10,000,000+ : 10.548285198555957\n",
      "10,000+ : 10.198555956678701\n",
      "1,000+ : 8.393501805054152\n",
      "100+ : 6.915613718411552\n",
      "5,000,000+ : 6.825361010830325\n",
      "500,000+ : 5.561823104693141\n",
      "50,000+ : 4.7721119133574\n",
      "5,000+ : 4.512635379061372\n",
      "10+ : 3.5424187725631766\n",
      "500+ : 3.2490974729241873\n",
      "50,000,000+ : 2.3014440433213\n",
      "100,000,000+ : 2.1322202166064983\n",
      "50+ : 1.917870036101083\n",
      "5+ : 0.78971119133574\n",
      "1+ : 0.5076714801444043\n",
      "500,000,000+ : 0.2707581227436823\n",
      "1,000,000,000+ : 0.22563176895306858\n",
      "0+ : 0.04512635379061372\n",
      "0 : 0.01128158844765343\n"
     ]
    }
   ],
   "source": [
    "display_table(android_final_data, 5) # the Installs columns"
   ]
  },
  {
   "cell_type": "markdown",
   "metadata": {},
   "source": [
    "One problem with this data is that is not precise. For instance, we don't know whether an app with 100,000+ installs has 100,000 installs, 200,000, or 350,000. However, we don't need very precise data for our purposes — we only want to find out which app genres attract the most users, and we don't need perfect precision with respect to the number of users.<br/>\n",
    "\n",
    "We're going to leave the numbers as they are, which means that we'll consider that an app with 100,000+ installs has 100,000 installs, and an app with 1,000,000+ installs has 1,000,000 installs, and so on.\n",
    "\n",
    "To perform computations, however, we'll need to convert each install number to float — this means that we need to remove the commas and the plus characters, otherwise the conversion will fail and raise an error. We'll do this directly in the loop below, where we also compute the average number of installs for each genre (category)."
   ]
  },
  {
   "cell_type": "code",
   "execution_count": 72,
   "metadata": {},
   "outputs": [
    {
     "name": "stdout",
     "output_type": "stream",
     "text": [
      "ART_AND_DESIGN  :  1986335.0877192982\n",
      "AUTO_AND_VEHICLES  :  647317.8170731707\n",
      "BEAUTY  :  513151.88679245283\n",
      "BOOKS_AND_REFERENCE  :  8767811.894736841\n",
      "BUSINESS  :  1712290.1474201474\n",
      "COMICS  :  817657.2727272727\n",
      "COMMUNICATION  :  38456119.167247385\n",
      "DATING  :  854028.8303030303\n",
      "EDUCATION  :  1833495.145631068\n",
      "ENTERTAINMENT  :  11640705.88235294\n",
      "EVENTS  :  253542.22222222222\n",
      "FINANCE  :  1387692.475609756\n",
      "FOOD_AND_DRINK  :  1924897.7363636363\n",
      "HEALTH_AND_FITNESS  :  4188821.9853479853\n",
      "HOUSE_AND_HOME  :  1331540.5616438356\n",
      "LIBRARIES_AND_DEMO  :  638503.734939759\n",
      "LIFESTYLE  :  1437816.2687861272\n",
      "GAME  :  15588015.603248259\n",
      "FAMILY  :  3695641.8198090694\n",
      "MEDICAL  :  120550.61980830671\n",
      "SOCIAL  :  23253652.127118643\n",
      "SHOPPING  :  7036877.311557789\n",
      "PHOTOGRAPHY  :  17840110.40229885\n",
      "SPORTS  :  3638640.1428571427\n",
      "TRAVEL_AND_LOCAL  :  13984077.710144928\n",
      "TOOLS  :  10801391.298666667\n",
      "PERSONALIZATION  :  5201482.6122448975\n",
      "PRODUCTIVITY  :  16787331.344927534\n",
      "PARENTING  :  542603.6206896552\n",
      "WEATHER  :  5074486.197183099\n",
      "VIDEO_PLAYERS  :  24727872.452830188\n",
      "NEWS_AND_MAGAZINES  :  9549178.467741935\n",
      "MAPS_AND_NAVIGATION  :  4056941.7741935486\n"
     ]
    }
   ],
   "source": [
    "categories = frequency_table(android_final_data, 1)\n",
    "\n",
    "for category in categories:\n",
    "    total = 0\n",
    "    len_category = 0\n",
    "    \n",
    "    for app in android_final_data:\n",
    "        if app[1] == category:\n",
    "            n_installs = app[5]\n",
    "            n_installs = n_installs.replace('+', '')\n",
    "            n_installs = n_installs.replace(',', '')\n",
    "            total += float(n_installs)\n",
    "            len_category += 1\n",
    "            \n",
    "    avg_n_installs = total / len_category\n",
    "    print(category, ' : ', avg_n_installs)"
   ]
  },
  {
   "cell_type": "markdown",
   "metadata": {
    "collapsed": true
   },
   "source": [
    "Let's check what kind of app in 'COMMUNICATION' genre and see why it has the most install number"
   ]
  },
  {
   "cell_type": "code",
   "execution_count": 73,
   "metadata": {},
   "outputs": [
    {
     "name": "stdout",
     "output_type": "stream",
     "text": [
      "WhatsApp Messenger : 1,000,000,000+\n",
      "Google Duo - High Quality Video Calls : 500,000,000+\n",
      "Messenger – Text and Video Chat for Free : 1,000,000,000+\n",
      "imo free video calls and chat : 500,000,000+\n",
      "Skype - free IM & video calls : 1,000,000,000+\n",
      "LINE: Free Calls & Messages : 500,000,000+\n",
      "Google Chrome: Fast & Secure : 1,000,000,000+\n",
      "UC Browser - Fast Download Private & Secure : 500,000,000+\n",
      "Gmail : 1,000,000,000+\n",
      "Hangouts : 1,000,000,000+\n",
      "Viber Messenger : 500,000,000+\n"
     ]
    }
   ],
   "source": [
    "for app in android_final_data:\n",
    "    if app[1] == 'COMMUNICATION' and (app[5] == '1,000,000,000+'\n",
    "                                      or app[5] == '500,000,000+'\n",
    "                                      ):\n",
    "        print(app[0], ':', app[5])"
   ]
  },
  {
   "cell_type": "markdown",
   "metadata": {},
   "source": [
    "As we can see, Whatsapp, Messenger, Skype, Google Chorme? Gmail, Hangouts...\n",
    "If we remove app that has over 100m install number?"
   ]
  },
  {
   "cell_type": "code",
   "execution_count": 74,
   "metadata": {},
   "outputs": [
    {
     "data": {
      "text/plain": [
       "3603485.3884615386"
      ]
     },
     "execution_count": 74,
     "metadata": {},
     "output_type": "execute_result"
    }
   ],
   "source": [
    "under_100_m = []\n",
    "\n",
    "for app in android_final_data:\n",
    "    n_installs = app[5]\n",
    "    n_installs = n_installs.replace(',', '')\n",
    "    n_installs = n_installs.replace('+', '')\n",
    "    if (app[1] == 'COMMUNICATION') and (float(n_installs) < 100000000):\n",
    "        under_100_m.append(float(n_installs))\n",
    "        \n",
    "sum(under_100_m) / len(under_100_m)"
   ]
  },
  {
   "cell_type": "markdown",
   "metadata": {},
   "source": [
    "It is roughly reduced 10 times (38456119.167247385)\n",
    "Let's check if ios_data has the same problem.\n"
   ]
  },
  {
   "cell_type": "code",
   "execution_count": 76,
   "metadata": {},
   "outputs": [
    {
     "data": {
      "text/plain": [
       "8856.71590909091"
      ]
     },
     "execution_count": 76,
     "metadata": {},
     "output_type": "execute_result"
    }
   ],
   "source": [
    "under_100_m = []\n",
    "\n",
    "for app in ios_final_data:\n",
    "    n_ratings = app[5]\n",
    "    if (app[-5] == 'Social Networking') and (float(n_ratings) < 60000):\n",
    "        under_100_m.append(float(n_ratings))\n",
    "        \n",
    "sum(under_100_m) / len(under_100_m)\n",
    "\n"
   ]
  },
  {
   "cell_type": "markdown",
   "metadata": {},
   "source": [
    "So with the old value (71548.34905660378) we can see that if we remove all the outliers(big tech, popular app) our data is reduced ~ 10 times. We could go through two data sets to apply this step but as our goal for this project is using python fundamentals, we'll stop here and build a profile app."
   ]
  },
  {
   "cell_type": "markdown",
   "metadata": {},
   "source": [
    "In this project, we analyzed data about the App Store and Google Play mobile apps with the goal of recommending an app profile that can be profitable for both markets.\n",
    "After the data has been analyzed, I see that Education and Games are two genres we could focus on to create an app profile. Why not combine two of them?\n",
    "\n",
    "I recommend we create a learning language app. This is a safe plan because learning languages is always a need for everyone. And we will create an learning app that has game in it like quiz, complete the lesson to unlock (images/games/fact about that country).\n",
    "<br/>\n",
    "Some common features: \n",
    "- Camera: Scan and translate\n",
    "- Dictionary for multi language: Data (example, explanation about word), and comment feature for users to discuss.\n",
    "- Flash card: Create and learn\n",
    "- Lessons based on level. If you want to reach new lesson, you have to passed the test of the current level.\n",
    "<br/>\n",
    "\n",
    "\n",
    "How about getting pay/money?\n",
    "- We'll set the limit for those above features. \n",
    "- Users can unlock it by watching ads (let's say 2 ads for 1 hour premium, 1 time a day) or pay it.\n"
   ]
  }
 ],
 "metadata": {
  "kernelspec": {
   "display_name": "Python 3",
   "language": "python",
   "name": "python3"
  },
  "language_info": {
   "codemirror_mode": {
    "name": "ipython",
    "version": 3
   },
   "file_extension": ".py",
   "mimetype": "text/x-python",
   "name": "python",
   "nbconvert_exporter": "python",
   "pygments_lexer": "ipython3",
   "version": "3.8.5"
  }
 },
 "nbformat": 4,
 "nbformat_minor": 2
}
